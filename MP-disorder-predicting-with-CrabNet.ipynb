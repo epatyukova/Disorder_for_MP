{
 "cells": [
  {
   "cell_type": "markdown",
   "id": "590808f2",
   "metadata": {},
   "source": [
    "This notebook allows to download the data from MP for some phase field, make disorder predictions for compounds in this phase field, and plot it using modified version of pymatgen PDPlotter"
   ]
  },
  {
   "cell_type": "markdown",
   "id": "c9541d89",
   "metadata": {},
   "source": [
    "## Plotting phase diagram"
   ]
  },
  {
   "cell_type": "code",
   "execution_count": 1,
   "id": "60fc8cbc",
   "metadata": {},
   "outputs": [],
   "source": [
    "import numpy as np\n",
    "import pandas as pd\n",
    "import json\n",
    "import re\n",
    "import os\n",
    "import ast\n",
    "import matplotlib.pyplot as plt\n",
    "\n",
    "from pymatgen.ext.matproj import MPRester\n",
    "import json\n",
    "import matplotlib.pyplot as plt\n",
    "from pymatgen.analysis.phase_diagram import PhaseDiagram, PDPlotter\n",
    "%matplotlib inline"
   ]
  },
  {
   "cell_type": "code",
   "execution_count": 2,
   "id": "e5926973",
   "metadata": {},
   "outputs": [],
   "source": [
    "path='/Users/elenapatyukova/Documents/Disorder-prediction/Disorder-prediction-new-paper/'"
   ]
  },
  {
   "cell_type": "markdown",
   "id": "a423cc79",
   "metadata": {},
   "source": [
    "### Modified plotter from pymatgen (disorder labels are added to the floating labels)"
   ]
  },
  {
   "cell_type": "code",
   "execution_count": 3,
   "id": "67c9a93a",
   "metadata": {},
   "outputs": [],
   "source": [
    "from __future__ import annotations\n",
    "\n",
    "import collections\n",
    "import itertools\n",
    "import json\n",
    "import logging\n",
    "import math\n",
    "import os\n",
    "import re\n",
    "import warnings\n",
    "from functools import lru_cache\n",
    "from typing import TYPE_CHECKING, Any, Literal, no_type_check\n",
    "\n",
    "import matplotlib.pyplot as plt\n",
    "import numpy as np\n",
    "import plotly.graph_objects as go\n",
    "from matplotlib import cm\n",
    "from matplotlib.cm import ScalarMappable\n",
    "from matplotlib.colors import LinearSegmentedColormap, Normalize\n",
    "from matplotlib.font_manager import FontProperties\n",
    "from monty.json import MontyDecoder, MSONable\n",
    "from scipy import interpolate\n",
    "from scipy.optimize import minimize\n",
    "from scipy.spatial import ConvexHull\n",
    "from tqdm import tqdm\n",
    "\n",
    "from pymatgen.analysis.reaction_calculator import Reaction, ReactionError\n",
    "from pymatgen.core import DummySpecies, Element\n",
    "from pymatgen.core.composition import Composition\n",
    "from pymatgen.entries import Entry\n",
    "from pymatgen.util.coord import Simplex, in_coord_list\n",
    "from pymatgen.util.due import Doi, due\n",
    "from pymatgen.util.plotting import pretty_plot\n",
    "from pymatgen.util.string import htmlify, latexify\n",
    "\n",
    "if TYPE_CHECKING:\n",
    "    from collections.abc import Collection, Iterator, Sequence\n",
    "    from io import StringIO\n",
    "\n",
    "    from numpy.typing import ArrayLike\n",
    "\n",
    "\n",
    "import matplotlib.pyplot as plt\n",
    "import plotly.graph_objects as go\n",
    "\n",
    "with open(path+'plotly_pd_layouts.json') as file:\n",
    "    plotly_layouts = json.load(file)\n",
    "\n",
    "class PDPlotter_dis(PDPlotter):\n",
    "    \"\"\"\n",
    "    Modification of PDPlotter to show compositions which are predicted to be disordered\n",
    "    \n",
    "    \"\"\"\n",
    "    def __init__(\n",
    "        self,\n",
    "        show_disorder: bool = True,\n",
    "        **kwargs\n",
    "        ):\n",
    "\n",
    "        self.show_disorder = show_disorder\n",
    "        super().__init__(**kwargs)\n",
    "    \n",
    "    def _create_plotly_markers(self, highlight_entries=None, label_uncertainties=False):\n",
    "        \"\"\"\n",
    "        Creates stable and unstable marker plots for overlaying on the phase diagram.\n",
    "\n",
    "        Returns:\n",
    "            Tuple of Plotly go.Scatter (unary, binary), go.Scatterternary(ternary_2d),\n",
    "            or go.Scatter3d (ternary_3d, quaternary) objects in order:\n",
    "            (stable markers, unstable markers)\n",
    "        \"\"\"\n",
    "        def get_marker_props(coords, entries):\n",
    "            \"\"\"Method for getting marker locations, hovertext, and error bars\n",
    "            from pd_plot_data.\n",
    "            \"\"\"\n",
    "            x, y, z, texts, energies, uncertainties = [], [], [], [], [], []\n",
    "\n",
    "            is_stable = [entry in self._pd.stable_entries for entry in entries]\n",
    "\n",
    "            for coord, entry, stable in zip(coords, entries, is_stable):\n",
    "                energy = round(self._pd.get_form_energy_per_atom(entry), 3)\n",
    "                if(self.show_disorder):\n",
    "                    disorder = entry.data['disorder']\n",
    "                    entropy = round(entry.data['configurational_entropy'],3)\n",
    "\n",
    "                entry_id = getattr(entry, \"entry_id\", \"no ID\")\n",
    "                comp = entry.composition\n",
    "\n",
    "                if hasattr(entry, \"original_entry\"):\n",
    "                    orig_entry = entry.original_entry\n",
    "                    comp = orig_entry.composition\n",
    "                    entry_id = getattr(orig_entry, \"entry_id\", \"no ID\")\n",
    "\n",
    "                formula = comp.reduced_formula\n",
    "                clean_formula = htmlify(formula)\n",
    "                if(self.show_disorder):\n",
    "                    label = f\"{clean_formula} ({entry_id}) <br> disorder = {disorder} <br> entropy = {entropy} k_B/atom ({round(entropy*0.026,5)} eV/atom at 300K)  <br> {energy} eV/atom\"\n",
    "                else:\n",
    "                    label = f\"{clean_formula} ({entry_id}) <br> {energy} eV/atom\"\n",
    "\n",
    "                if not stable:\n",
    "                    e_above_hull = round(self._pd.get_e_above_hull(entry), 3)\n",
    "                    if e_above_hull > self.show_unstable:\n",
    "                        continue\n",
    "                    label += f\" ({e_above_hull:+} eV/atom)\"\n",
    "                    energies.append(e_above_hull)\n",
    "                else:\n",
    "                    uncertainty = 0\n",
    "                    label += \" (Stable)\"\n",
    "                    if hasattr(entry, \"correction_uncertainty_per_atom\") and label_uncertainties:\n",
    "                        uncertainty = round(entry.correction_uncertainty_per_atom, 4)\n",
    "                        label += f\"<br> (Error: +/- {uncertainty} eV/atom)\"\n",
    "\n",
    "                    uncertainties.append(uncertainty)\n",
    "                    energies.append(energy)\n",
    "\n",
    "                texts.append(label)\n",
    "\n",
    "                if self._dim == 3 and self.ternary_style == \"2d\":\n",
    "                    for el, axis in zip(self._pd.elements, [x, y, z]):\n",
    "                        axis.append(entry.composition[el])\n",
    "                else:\n",
    "                    x.append(coord[0])\n",
    "                    y.append(coord[1])\n",
    "\n",
    "                    if self._dim == 3:\n",
    "                        z.append(energy)\n",
    "                    elif self._dim == 4:\n",
    "                        z.append(coord[2])\n",
    "\n",
    "            return {\"x\": x, \"y\": y, \"z\": z, \"texts\": texts, \"energies\": energies, \"uncertainties\": uncertainties}\n",
    "\n",
    "        if highlight_entries is None:\n",
    "            highlight_entries = []\n",
    "\n",
    "        stable_coords, stable_entries = [], []\n",
    "        unstable_coords, unstable_entries = [], []\n",
    "        highlight_coords, highlight_ents = [], []\n",
    "\n",
    "        for coord, entry in zip(self.pd_plot_data[1], self.pd_plot_data[1].values()):\n",
    "            if entry in highlight_entries:\n",
    "                highlight_coords.append(coord)\n",
    "                highlight_ents.append(entry)\n",
    "            else:\n",
    "                stable_coords.append(coord)\n",
    "                stable_entries.append(entry)\n",
    "\n",
    "        for coord, entry in zip(self.pd_plot_data[2].values(), self.pd_plot_data[2]):\n",
    "            if entry in highlight_entries:\n",
    "                highlight_coords.append(coord)\n",
    "                highlight_ents.append(entry)\n",
    "            else:\n",
    "                unstable_coords.append(coord)\n",
    "                unstable_entries.append(entry)\n",
    "\n",
    "        stable_props = get_marker_props(stable_coords, stable_entries)\n",
    "        unstable_props = get_marker_props(unstable_coords, unstable_entries)\n",
    "        highlight_props = get_marker_props(highlight_coords, highlight_entries)\n",
    "\n",
    "        stable_markers, unstable_markers, highlight_markers = {}, {}, {}\n",
    "\n",
    "        if self._dim == 1:\n",
    "            stable_markers = plotly_layouts[\"default_unary_marker_settings\"].copy()\n",
    "            unstable_markers = plotly_layouts[\"default_unary_marker_settings\"].copy()\n",
    "\n",
    "            stable_markers.update(\n",
    "                x=[0] * len(stable_props[\"y\"]),\n",
    "                y=list(stable_props[\"x\"]),\n",
    "                name=\"Stable\",\n",
    "                marker={\n",
    "                    \"color\": \"darkgreen\",\n",
    "                    \"size\": 20,\n",
    "                    \"line\": {\"color\": \"black\", \"width\": 2},\n",
    "                    \"symbol\": \"star\",\n",
    "                },\n",
    "                opacity=0.9,\n",
    "                hovertext=stable_props[\"texts\"],\n",
    "                error_y={\n",
    "                    \"array\": list(stable_props[\"uncertainties\"]),\n",
    "                    \"type\": \"data\",\n",
    "                    \"color\": \"gray\",\n",
    "                    \"thickness\": 2.5,\n",
    "                    \"width\": 5,\n",
    "                },\n",
    "            )\n",
    "            plotly_layouts[\"unstable_colorscale\"].copy()\n",
    "            unstable_markers.update(\n",
    "                x=[0] * len(unstable_props[\"y\"]),\n",
    "                y=list(unstable_props[\"x\"]),\n",
    "                name=\"Above Hull\",\n",
    "                marker={\n",
    "                    \"color\": unstable_props[\"energies\"],\n",
    "                    \"colorscale\": plotly_layouts[\"unstable_colorscale\"],\n",
    "                    \"size\": 16,\n",
    "                    \"symbol\": \"diamond-wide\",\n",
    "                    \"line\": {\"color\": \"black\", \"width\": 2},\n",
    "                },\n",
    "                hovertext=unstable_props[\"texts\"],\n",
    "                opacity=0.9,\n",
    "            )\n",
    "\n",
    "            if highlight_entries:\n",
    "                highlight_markers = plotly_layouts[\"default_unary_marker_settings\"].copy()\n",
    "                highlight_markers.update(\n",
    "                    {\n",
    "                        \"x\": [0] * len(highlight_props[\"y\"]),\n",
    "                        \"y\": list(highlight_props[\"x\"]),\n",
    "                        \"name\": \"Highlighted\",\n",
    "                        \"marker\": {\n",
    "                            \"color\": \"mediumvioletred\",\n",
    "                            \"size\": 22,\n",
    "                            \"line\": {\"color\": \"black\", \"width\": 2},\n",
    "                            \"symbol\": \"square\",\n",
    "                        },\n",
    "                        \"opacity\": 0.9,\n",
    "                        \"hovertext\": highlight_props[\"texts\"],\n",
    "                        \"error_y\": {\n",
    "                            \"array\": list(highlight_props[\"uncertainties\"]),\n",
    "                            \"type\": \"data\",\n",
    "                            \"color\": \"gray\",\n",
    "                            \"thickness\": 2.5,\n",
    "                            \"width\": 5,\n",
    "                        },\n",
    "                    }\n",
    "                )\n",
    "\n",
    "        if self._dim == 2:\n",
    "            stable_markers = plotly_layouts[\"default_binary_marker_settings\"].copy()\n",
    "            unstable_markers = plotly_layouts[\"default_binary_marker_settings\"].copy()\n",
    "\n",
    "            stable_markers.update(\n",
    "                x=list(stable_props[\"x\"]),\n",
    "                y=list(stable_props[\"y\"]),\n",
    "                name=\"Stable\",\n",
    "                marker={\"color\": \"darkgreen\", \"size\": 16, \"line\": {\"color\": \"black\", \"width\": 2}},\n",
    "                opacity=0.99,\n",
    "                hovertext=stable_props[\"texts\"],\n",
    "                error_y={\n",
    "                    \"array\": list(stable_props[\"uncertainties\"]),\n",
    "                    \"type\": \"data\",\n",
    "                    \"color\": \"gray\",\n",
    "                    \"thickness\": 2.5,\n",
    "                    \"width\": 5,\n",
    "                },\n",
    "            )\n",
    "            unstable_markers.update(\n",
    "                {\n",
    "                    \"x\": list(unstable_props[\"x\"]),\n",
    "                    \"y\": list(unstable_props[\"y\"]),\n",
    "                    \"name\": \"Above Hull\",\n",
    "                    \"marker\": {\n",
    "                        \"color\": unstable_props[\"energies\"],\n",
    "                        \"colorscale\": plotly_layouts[\"unstable_colorscale\"],\n",
    "                        \"size\": 7,\n",
    "                        \"symbol\": \"diamond\",\n",
    "                        \"line\": {\"color\": \"black\", \"width\": 1},\n",
    "                        \"opacity\": 0.8,\n",
    "                    },\n",
    "                    \"hovertext\": unstable_props[\"texts\"],\n",
    "                }\n",
    "            )\n",
    "            if highlight_entries:\n",
    "                highlight_markers = plotly_layouts[\"default_binary_marker_settings\"].copy()\n",
    "                highlight_markers.update(\n",
    "                    x=list(highlight_props[\"x\"]),\n",
    "                    y=list(highlight_props[\"y\"]),\n",
    "                    name=\"Highlighted\",\n",
    "                    marker={\n",
    "                        \"color\": \"mediumvioletred\",\n",
    "                        \"size\": 16,\n",
    "                        \"line\": {\"color\": \"black\", \"width\": 2},\n",
    "                        \"symbol\": \"square\",\n",
    "                    },\n",
    "                    opacity=0.99,\n",
    "                    hovertext=highlight_props[\"texts\"],\n",
    "                    error_y={\n",
    "                        \"array\": list(highlight_props[\"uncertainties\"]),\n",
    "                        \"type\": \"data\",\n",
    "                        \"color\": \"gray\",\n",
    "                        \"thickness\": 2.5,\n",
    "                        \"width\": 5,\n",
    "                    },\n",
    "                )\n",
    "\n",
    "        elif self._dim == 3 and self.ternary_style == \"2d\":\n",
    "            stable_markers = plotly_layouts[\"default_ternary_2d_marker_settings\"].copy()\n",
    "            unstable_markers = plotly_layouts[\"default_ternary_2d_marker_settings\"].copy()\n",
    "\n",
    "            stable_markers.update(\n",
    "                {\n",
    "                    \"a\": list(stable_props[\"x\"]),\n",
    "                    \"b\": list(stable_props[\"y\"]),\n",
    "                    \"c\": list(stable_props[\"z\"]),\n",
    "                    \"name\": \"Stable\",\n",
    "                    \"hovertext\": stable_props[\"texts\"],\n",
    "                    \"marker\": {\n",
    "                        \"color\": \"green\",\n",
    "                        \"line\": {\"width\": 2.0, \"color\": \"black\"},\n",
    "                        \"symbol\": \"circle\",\n",
    "                        \"size\": 15,\n",
    "                    },\n",
    "                }\n",
    "            )\n",
    "            unstable_markers.update(\n",
    "                {\n",
    "                    \"a\": unstable_props[\"x\"],\n",
    "                    \"b\": unstable_props[\"y\"],\n",
    "                    \"c\": unstable_props[\"z\"],\n",
    "                    \"name\": \"Above Hull\",\n",
    "                    \"hovertext\": unstable_props[\"texts\"],\n",
    "                    \"marker\": {\n",
    "                        \"color\": unstable_props[\"energies\"],\n",
    "                        \"opacity\": 0.8,\n",
    "                        \"colorscale\": plotly_layouts[\"unstable_colorscale\"],\n",
    "                        \"line\": {\"width\": 1, \"color\": \"black\"},\n",
    "                        \"size\": 7,\n",
    "                        \"symbol\": \"diamond\",\n",
    "                        \"colorbar\": {\n",
    "                            \"title\": \"Energy Above Hull<br>(eV/atom)\",\n",
    "                            \"x\": 0,\n",
    "                            \"y\": 1,\n",
    "                            \"yanchor\": \"top\",\n",
    "                            \"xpad\": 0,\n",
    "                            \"ypad\": 0,\n",
    "                            \"thickness\": 0.02,\n",
    "                            \"thicknessmode\": \"fraction\",\n",
    "                            \"len\": 0.5,\n",
    "                        },\n",
    "                    },\n",
    "                }\n",
    "            )\n",
    "            if highlight_entries:\n",
    "                highlight_markers = plotly_layouts[\"default_ternary_2d_marker_settings\"].copy()\n",
    "                highlight_markers.update(\n",
    "                    {\n",
    "                        \"a\": list(highlight_props[\"x\"]),\n",
    "                        \"b\": list(highlight_props[\"y\"]),\n",
    "                        \"c\": list(highlight_props[\"z\"]),\n",
    "                        \"name\": \"Highlighted\",\n",
    "                        \"hovertext\": highlight_props[\"texts\"],\n",
    "                        \"marker\": {\n",
    "                            \"color\": \"mediumvioletred\",\n",
    "                            \"line\": {\"width\": 2.0, \"color\": \"black\"},\n",
    "                            \"symbol\": \"square\",\n",
    "                            \"size\": 16,\n",
    "                        },\n",
    "                    }\n",
    "                )\n",
    "\n",
    "        elif self._dim == 3 and self.ternary_style == \"3d\":\n",
    "            stable_markers = plotly_layouts[\"default_ternary_3d_marker_settings\"].copy()\n",
    "            unstable_markers = plotly_layouts[\"default_ternary_3d_marker_settings\"].copy()\n",
    "\n",
    "            stable_markers.update(\n",
    "                {\n",
    "                    \"x\": list(stable_props[\"y\"]),\n",
    "                    \"y\": list(stable_props[\"x\"]),\n",
    "                    \"z\": list(stable_props[\"z\"]),\n",
    "                    \"name\": \"Stable\",\n",
    "                    \"marker\": {\n",
    "                        \"color\": \"#1e1e1f\",\n",
    "                        \"size\": 11,\n",
    "                        \"opacity\": 0.99,\n",
    "                    },\n",
    "                    \"hovertext\": stable_props[\"texts\"],\n",
    "                    \"error_z\": {\n",
    "                        \"array\": list(stable_props[\"uncertainties\"]),\n",
    "                        \"type\": \"data\",\n",
    "                        \"color\": \"darkgray\",\n",
    "                        \"width\": 10,\n",
    "                        \"thickness\": 5,\n",
    "                    },\n",
    "                }\n",
    "            )\n",
    "            unstable_markers.update(\n",
    "                {\n",
    "                    \"x\": unstable_props[\"y\"],\n",
    "                    \"y\": unstable_props[\"x\"],\n",
    "                    \"z\": unstable_props[\"z\"],\n",
    "                    \"name\": \"Above Hull\",\n",
    "                    \"hovertext\": unstable_props[\"texts\"],\n",
    "                    \"marker\": {\n",
    "                        \"color\": unstable_props[\"energies\"],\n",
    "                        \"colorscale\": plotly_layouts[\"unstable_colorscale\"],\n",
    "                        \"size\": 5,\n",
    "                        \"line\": {\"color\": \"black\", \"width\": 1},\n",
    "                        \"symbol\": \"diamond\",\n",
    "                        \"opacity\": 0.7,\n",
    "                        \"colorbar\": {\n",
    "                            \"title\": \"Energy Above Hull<br>(eV/atom)\",\n",
    "                            \"x\": 0,\n",
    "                            \"y\": 1,\n",
    "                            \"yanchor\": \"top\",\n",
    "                            \"xpad\": 0,\n",
    "                            \"ypad\": 0,\n",
    "                            \"thickness\": 0.02,\n",
    "                            \"thicknessmode\": \"fraction\",\n",
    "                            \"len\": 0.5,\n",
    "                        },\n",
    "                    },\n",
    "                }\n",
    "            )\n",
    "            if highlight_entries:\n",
    "                highlight_markers = plotly_layouts[\"default_ternary_3d_marker_settings\"].copy()\n",
    "                highlight_markers.update(\n",
    "                    {\n",
    "                        \"x\": list(highlight_props[\"y\"]),\n",
    "                        \"y\": list(highlight_props[\"x\"]),\n",
    "                        \"z\": list(highlight_props[\"z\"]),\n",
    "                        \"name\": \"Highlighted\",\n",
    "                        \"marker\": {\n",
    "                            \"size\": 12,\n",
    "                            \"opacity\": 0.99,\n",
    "                            \"symbol\": \"square\",\n",
    "                            \"color\": \"mediumvioletred\",\n",
    "                        },\n",
    "                        \"hovertext\": highlight_props[\"texts\"],\n",
    "                        \"error_z\": {\n",
    "                            \"array\": list(highlight_props[\"uncertainties\"]),\n",
    "                            \"type\": \"data\",\n",
    "                            \"color\": \"darkgray\",\n",
    "                            \"width\": 10,\n",
    "                            \"thickness\": 5,\n",
    "                        },\n",
    "                    }\n",
    "                )\n",
    "\n",
    "        elif self._dim == 4:\n",
    "            stable_markers = plotly_layouts[\"default_quaternary_marker_settings\"].copy()\n",
    "            unstable_markers = plotly_layouts[\"default_quaternary_marker_settings\"].copy()\n",
    "            stable_markers.update(\n",
    "                {\n",
    "                    \"x\": stable_props[\"x\"],\n",
    "                    \"y\": stable_props[\"y\"],\n",
    "                    \"z\": stable_props[\"z\"],\n",
    "                    \"name\": \"Stable\",\n",
    "                    \"marker\": {\n",
    "                        \"size\": 7,\n",
    "                        \"opacity\": 0.99,\n",
    "                        \"color\": \"darkgreen\",\n",
    "                        \"line\": {\"color\": \"black\", \"width\": 1},\n",
    "                    },\n",
    "                    \"hovertext\": stable_props[\"texts\"],\n",
    "                }\n",
    "            )\n",
    "            unstable_markers.update(\n",
    "                {\n",
    "                    \"x\": unstable_props[\"x\"],\n",
    "                    \"y\": unstable_props[\"y\"],\n",
    "                    \"z\": unstable_props[\"z\"],\n",
    "                    \"name\": \"Above Hull\",\n",
    "                    \"marker\": {\n",
    "                        \"color\": unstable_props[\"energies\"],\n",
    "                        \"colorscale\": plotly_layouts[\"unstable_colorscale\"],\n",
    "                        \"size\": 5,\n",
    "                        \"symbol\": \"diamond\",\n",
    "                        \"line\": {\"color\": \"black\", \"width\": 1},\n",
    "                        \"colorbar\": {\n",
    "                            \"title\": \"Energy Above Hull<br>(eV/atom)\",\n",
    "                            \"x\": 0,\n",
    "                            \"y\": 1,\n",
    "                            \"yanchor\": \"top\",\n",
    "                            \"xpad\": 0,\n",
    "                            \"ypad\": 0,\n",
    "                            \"thickness\": 0.02,\n",
    "                            \"thicknessmode\": \"fraction\",\n",
    "                            \"len\": 0.5,\n",
    "                        },\n",
    "                    },\n",
    "                    \"hovertext\": unstable_props[\"texts\"],\n",
    "                    \"visible\": \"legendonly\",\n",
    "                }\n",
    "            )\n",
    "            if highlight_entries:\n",
    "                highlight_markers = plotly_layouts[\"default_quaternary_marker_settings\"].copy()\n",
    "                highlight_markers.update(\n",
    "                    {\n",
    "                        \"x\": highlight_props[\"x\"],\n",
    "                        \"y\": highlight_props[\"y\"],\n",
    "                        \"z\": highlight_props[\"z\"],\n",
    "                        \"name\": \"Highlighted\",\n",
    "                        \"marker\": {\n",
    "                            \"size\": 9,\n",
    "                            \"opacity\": 0.99,\n",
    "                            \"symbol\": \"square\",\n",
    "                            \"color\": \"mediumvioletred\",\n",
    "                            \"line\": {\"color\": \"black\", \"width\": 1},\n",
    "                        },\n",
    "                        \"hovertext\": highlight_props[\"texts\"],\n",
    "                    }\n",
    "                )\n",
    "\n",
    "        highlight_marker_plot = None\n",
    "\n",
    "        if self._dim in [1, 2]:\n",
    "            stable_marker_plot, unstable_marker_plot = (\n",
    "                go.Scatter(**markers) for markers in [stable_markers, unstable_markers]\n",
    "            )\n",
    "\n",
    "            if highlight_entries:\n",
    "                highlight_marker_plot = go.Scatter(**highlight_markers)\n",
    "        elif self._dim == 3 and self.ternary_style == \"2d\":\n",
    "            stable_marker_plot, unstable_marker_plot = (\n",
    "                go.Scatterternary(**markers) for markers in [stable_markers, unstable_markers]\n",
    "            )\n",
    "            if highlight_entries:\n",
    "                highlight_marker_plot = go.Scatterternary(**highlight_markers)\n",
    "        else:\n",
    "            stable_marker_plot, unstable_marker_plot = (\n",
    "                go.Scatter3d(**markers) for markers in [stable_markers, unstable_markers]\n",
    "            )\n",
    "            if highlight_entries:\n",
    "                highlight_marker_plot = go.Scatter3d(**highlight_markers)\n",
    "\n",
    "        return stable_marker_plot, unstable_marker_plot, highlight_marker_plot"
   ]
  },
  {
   "cell_type": "markdown",
   "id": "5f9221a5",
   "metadata": {},
   "source": [
    "### Loading phase field data from MP"
   ]
  },
  {
   "cell_type": "code",
   "execution_count": 127,
   "id": "1c4f270c",
   "metadata": {},
   "outputs": [
    {
     "name": "stderr",
     "output_type": "stream",
     "text": [
      "/Users/elenapatyukova/anaconda3/envs/py3/lib/python3.11/site-packages/mp_api/client/mprester.py:182: UserWarning:\n",
      "\n",
      "mpcontribs-client not installed. Install the package to query MPContribs data, or construct pourbaix diagrams: 'pip install mpcontribs-client'\n",
      "\n"
     ]
    },
    {
     "data": {
      "application/vnd.jupyter.widget-view+json": {
       "model_id": "65a79a3272be41b6a893585157ad43c9",
       "version_major": 2,
       "version_minor": 0
      },
      "text/plain": [
       "Retrieving ThermoDoc documents:   0%|          | 0/86 [00:00<?, ?it/s]"
      ]
     },
     "metadata": {},
     "output_type": "display_data"
    }
   ],
   "source": [
    "API_KEY = \"tfmgnRMn6JItPN8S8W9y7yzvm3R8o2Z4\"\n",
    "\n",
    "a = MPRester(API_KEY)\n",
    "\n",
    "#Entries are the basic unit for thermodynamic and other analyses in pymatgen.\n",
    "#This gets all entries belonging to the Ca-C-O system.\n",
    "entries = a.get_entries_in_chemsys(['Mg', 'Al', 'Fe'])"
   ]
  },
  {
   "cell_type": "code",
   "execution_count": 128,
   "id": "7d1311a0",
   "metadata": {},
   "outputs": [],
   "source": [
    "compositions=[]\n",
    "for entry in entries:\n",
    "    compositions.append(entry.composition.formula)"
   ]
  },
  {
   "cell_type": "code",
   "execution_count": 129,
   "id": "da735d86",
   "metadata": {},
   "outputs": [],
   "source": [
    "data=pd.DataFrame()\n",
    "data['formula']=compositions\n",
    "data['target']=np.zeros(len(compositions),dtype=int)\n",
    "data.to_csv('phase_field.csv')"
   ]
  },
  {
   "cell_type": "code",
   "execution_count": 130,
   "id": "62f44c37",
   "metadata": {},
   "outputs": [],
   "source": [
    "import os\n",
    "import numpy as np\n",
    "import pandas as pd\n",
    "import torch\n",
    "\n",
    "from sklearn.metrics import roc_auc_score\n",
    "\n",
    "from crabnet.kingcrab import CrabNet\n",
    "from crabnet.model import Model\n",
    "from utils.get_compute_device import get_compute_device"
   ]
  },
  {
   "cell_type": "code",
   "execution_count": 131,
   "id": "4a5f27a4",
   "metadata": {},
   "outputs": [],
   "source": [
    "compute_device = get_compute_device(prefer_last=True)\n",
    "RNG_SEED = 42\n",
    "torch.manual_seed(RNG_SEED)\n",
    "np.random.seed(RNG_SEED)"
   ]
  },
  {
   "cell_type": "code",
   "execution_count": 152,
   "id": "b3fa17a1",
   "metadata": {},
   "outputs": [],
   "source": [
    "path=path='/Users/elenapatyukova/Documents/Disorder-prediction/Disorder-prediction-new-paper/Disorder_for_MP/'\n",
    "# data_file = path+'phase_field.csv'\n",
    "data_file = path+'test 1.csv'"
   ]
  },
  {
   "cell_type": "code",
   "execution_count": 153,
   "id": "24b0b06c",
   "metadata": {},
   "outputs": [],
   "source": [
    "result=pd.read_csv(data_file)"
   ]
  },
  {
   "cell_type": "code",
   "execution_count": 154,
   "id": "c4737814",
   "metadata": {},
   "outputs": [
    {
     "data": {
      "text/html": [
       "<div>\n",
       "<style scoped>\n",
       "    .dataframe tbody tr th:only-of-type {\n",
       "        vertical-align: middle;\n",
       "    }\n",
       "\n",
       "    .dataframe tbody tr th {\n",
       "        vertical-align: top;\n",
       "    }\n",
       "\n",
       "    .dataframe thead th {\n",
       "        text-align: right;\n",
       "    }\n",
       "</style>\n",
       "<table border=\"1\" class=\"dataframe\">\n",
       "  <thead>\n",
       "    <tr style=\"text-align: right;\">\n",
       "      <th></th>\n",
       "      <th>Unnamed: 0</th>\n",
       "      <th>formula</th>\n",
       "      <th>target</th>\n",
       "    </tr>\n",
       "  </thead>\n",
       "  <tbody>\n",
       "    <tr>\n",
       "      <th>0</th>\n",
       "      <td>0</td>\n",
       "      <td>Al2.475 Au5.25 Cu4.275</td>\n",
       "      <td>1</td>\n",
       "    </tr>\n",
       "    <tr>\n",
       "      <th>1</th>\n",
       "      <td>1</td>\n",
       "      <td>C3 As4 F24 N3 Te6</td>\n",
       "      <td>0</td>\n",
       "    </tr>\n",
       "    <tr>\n",
       "      <th>2</th>\n",
       "      <td>2</td>\n",
       "      <td>Ag0.87 Ge4 Na7.13 Se10</td>\n",
       "      <td>1</td>\n",
       "    </tr>\n",
       "    <tr>\n",
       "      <th>3</th>\n",
       "      <td>3</td>\n",
       "      <td>Ba7.998 Ca2.666 O23.994 W2.666 Zr2.666</td>\n",
       "      <td>1</td>\n",
       "    </tr>\n",
       "    <tr>\n",
       "      <th>4</th>\n",
       "      <td>4</td>\n",
       "      <td>Nb6 Sn4.92</td>\n",
       "      <td>1</td>\n",
       "    </tr>\n",
       "    <tr>\n",
       "      <th>...</th>\n",
       "      <td>...</td>\n",
       "      <td>...</td>\n",
       "      <td>...</td>\n",
       "    </tr>\n",
       "    <tr>\n",
       "      <th>9841</th>\n",
       "      <td>9841</td>\n",
       "      <td>Ag0.95 Sb0.05</td>\n",
       "      <td>1</td>\n",
       "    </tr>\n",
       "    <tr>\n",
       "      <th>9842</th>\n",
       "      <td>9842</td>\n",
       "      <td>O18 Rb2 Ta6 Ti1</td>\n",
       "      <td>1</td>\n",
       "    </tr>\n",
       "    <tr>\n",
       "      <th>9843</th>\n",
       "      <td>9843</td>\n",
       "      <td>H9 B9 Rb2</td>\n",
       "      <td>1</td>\n",
       "    </tr>\n",
       "    <tr>\n",
       "      <th>9844</th>\n",
       "      <td>9844</td>\n",
       "      <td>Al1 B14 Ho1</td>\n",
       "      <td>0</td>\n",
       "    </tr>\n",
       "    <tr>\n",
       "      <th>9845</th>\n",
       "      <td>9845</td>\n",
       "      <td>Mg2 Si7</td>\n",
       "      <td>0</td>\n",
       "    </tr>\n",
       "  </tbody>\n",
       "</table>\n",
       "<p>9846 rows × 3 columns</p>\n",
       "</div>"
      ],
      "text/plain": [
       "      Unnamed: 0                                 formula  target\n",
       "0              0                  Al2.475 Au5.25 Cu4.275       1\n",
       "1              1                       C3 As4 F24 N3 Te6       0\n",
       "2              2                  Ag0.87 Ge4 Na7.13 Se10       1\n",
       "3              3  Ba7.998 Ca2.666 O23.994 W2.666 Zr2.666       1\n",
       "4              4                              Nb6 Sn4.92       1\n",
       "...          ...                                     ...     ...\n",
       "9841        9841                           Ag0.95 Sb0.05       1\n",
       "9842        9842                         O18 Rb2 Ta6 Ti1       1\n",
       "9843        9843                               H9 B9 Rb2       1\n",
       "9844        9844                             Al1 B14 Ho1       0\n",
       "9845        9845                                 Mg2 Si7       0\n",
       "\n",
       "[9846 rows x 3 columns]"
      ]
     },
     "execution_count": 154,
     "metadata": {},
     "output_type": "execute_result"
    }
   ],
   "source": [
    "result"
   ]
  },
  {
   "cell_type": "code",
   "execution_count": 155,
   "id": "2576aaf0",
   "metadata": {},
   "outputs": [
    {
     "name": "stdout",
     "output_type": "stream",
     "text": [
      "\n",
      "Model architecture: out_dims, d_model, N, heads\n",
      "3, 512, 3, 4\n",
      "Running on compute device: cpu\n",
      "Model size: 11987206 parameters\n",
      "\n"
     ]
    }
   ],
   "source": [
    "mat_prop='disorder'\n",
    "verbose=True\n",
    "\n",
    "model = Model(CrabNet(compute_device=compute_device).to(compute_device),\n",
    "                  model_name=f'{mat_prop}', verbose=verbose)\n",
    "model.classification = True"
   ]
  },
  {
   "cell_type": "code",
   "execution_count": 156,
   "id": "fad3f4c8",
   "metadata": {},
   "outputs": [],
   "source": [
    "result=pd.DataFrame()\n",
    "result['formula']=compositions"
   ]
  },
  {
   "cell_type": "code",
   "execution_count": 157,
   "id": "adb6acad",
   "metadata": {},
   "outputs": [
    {
     "name": "stderr",
     "output_type": "stream",
     "text": [
      "Generating EDM: 100%|██████████| 9837/9837 [00:00<00:00, 223262.56formulae/s]\n"
     ]
    },
    {
     "name": "stdout",
     "output_type": "stream",
     "text": [
      "loading data with up to 13 elements in the formula\n"
     ]
    },
    {
     "name": "stderr",
     "output_type": "stream",
     "text": [
      "Generating EDM: 100%|██████████| 9837/9837 [00:00<00:00, 266412.92formulae/s]\n"
     ]
    },
    {
     "name": "stdout",
     "output_type": "stream",
     "text": [
      "loading data with up to 13 elements in the formula\n"
     ]
    },
    {
     "name": "stderr",
     "output_type": "stream",
     "text": [
      "Generating EDM: 100%|██████████| 9837/9837 [00:00<00:00, 256974.85formulae/s]\n"
     ]
    },
    {
     "name": "stdout",
     "output_type": "stream",
     "text": [
      "loading data with up to 13 elements in the formula\n"
     ]
    },
    {
     "name": "stderr",
     "output_type": "stream",
     "text": [
      "Generating EDM: 100%|██████████| 9837/9837 [00:00<00:00, 257459.12formulae/s]\n"
     ]
    },
    {
     "name": "stdout",
     "output_type": "stream",
     "text": [
      "loading data with up to 13 elements in the formula\n"
     ]
    },
    {
     "name": "stderr",
     "output_type": "stream",
     "text": [
      "Generating EDM: 100%|██████████| 9837/9837 [00:00<00:00, 264478.04formulae/s]\n"
     ]
    },
    {
     "name": "stdout",
     "output_type": "stream",
     "text": [
      "loading data with up to 13 elements in the formula\n"
     ]
    }
   ],
   "source": [
    "n_disorder_models=5\n",
    "\n",
    "for i in range(n_disorder_models):\n",
    "    model.load_network(f'{mat_prop}'+str(i)+'.pth')\n",
    "    # data is reloaded to model.data_loader\n",
    "    model.load_data(data_file, batch_size=2**9, train=False)\n",
    "    output = model.predict(model.data_loader)\n",
    "    means=[]\n",
    "    stds=[]\n",
    "    for comp in result['formula'].values:\n",
    "        if comp in output[2]:\n",
    "            ind=list(output[2]).index(comp)\n",
    "            means.append(output[1][ind])\n",
    "            stds.append(output[3][ind])\n",
    "        else:\n",
    "            means.append(0)\n",
    "            stds.append(0)\n",
    "    result['mean'+str(i)]=means\n",
    "    result['std'+str(i)]=stds\n",
    "means=np.zeros(len(result))\n",
    "stds=np.zeros(len(result))\n",
    "for i in range(n_disorder_models):\n",
    "    means+=result['mean'+str(i)]\n",
    "means=means/n_disorder_models\n",
    "dis=[m>0.5 for m in means]\n",
    "for i in range(n_disorder_models):\n",
    "    stds+=(result['mean'+str(i)]-means)**2+result['std'+str(i)]**2\n",
    "stds=(stds/n_disorder_models)**0.5\n",
    "\n",
    "result['disorder']=dis\n",
    "result['mean_dis_prob']=means\n",
    "result['std_dis_prob']=stds"
   ]
  },
  {
   "cell_type": "code",
   "execution_count": 158,
   "id": "f0894a9b",
   "metadata": {},
   "outputs": [
    {
     "name": "stdout",
     "output_type": "stream",
     "text": [
      "\n",
      "Model architecture: out_dims, d_model, N, heads\n",
      "3, 512, 3, 4\n",
      "Running on compute device: cpu\n",
      "Model size: 11987206 parameters\n",
      "\n"
     ]
    }
   ],
   "source": [
    "mat_prop='entropy'\n",
    "verbose=True\n",
    "\n",
    "model = Model(CrabNet(compute_device=compute_device).to(compute_device),\n",
    "                  model_name=f'{mat_prop}', verbose=verbose)\n",
    "model.classification = False"
   ]
  },
  {
   "cell_type": "code",
   "execution_count": 159,
   "id": "565b79f8",
   "metadata": {},
   "outputs": [
    {
     "name": "stderr",
     "output_type": "stream",
     "text": [
      "Generating EDM: 100%|██████████| 9837/9837 [00:00<00:00, 263310.05formulae/s]\n"
     ]
    },
    {
     "name": "stdout",
     "output_type": "stream",
     "text": [
      "loading data with up to 13 elements in the formula\n"
     ]
    },
    {
     "name": "stderr",
     "output_type": "stream",
     "text": [
      "Generating EDM: 100%|██████████| 9837/9837 [00:00<00:00, 265006.35formulae/s]\n"
     ]
    },
    {
     "name": "stdout",
     "output_type": "stream",
     "text": [
      "loading data with up to 13 elements in the formula\n"
     ]
    },
    {
     "name": "stderr",
     "output_type": "stream",
     "text": [
      "Generating EDM: 100%|██████████| 9837/9837 [00:00<00:00, 259256.45formulae/s]\n"
     ]
    },
    {
     "name": "stdout",
     "output_type": "stream",
     "text": [
      "loading data with up to 13 elements in the formula\n"
     ]
    },
    {
     "name": "stderr",
     "output_type": "stream",
     "text": [
      "Generating EDM: 100%|██████████| 9837/9837 [00:00<00:00, 264388.22formulae/s]\n"
     ]
    },
    {
     "name": "stdout",
     "output_type": "stream",
     "text": [
      "loading data with up to 13 elements in the formula\n"
     ]
    },
    {
     "name": "stderr",
     "output_type": "stream",
     "text": [
      "Generating EDM: 100%|██████████| 9837/9837 [00:00<00:00, 265125.55formulae/s]\n"
     ]
    },
    {
     "name": "stdout",
     "output_type": "stream",
     "text": [
      "loading data with up to 13 elements in the formula\n"
     ]
    }
   ],
   "source": [
    "n_entropy_models=5\n",
    "\n",
    "for i in range(0,n_entropy_models):\n",
    "    model.load_network(f'{mat_prop}'+str(i)+'.pth')\n",
    "    # data is reloaded to model.data_loader\n",
    "    model.load_data(data_file, batch_size=2**9, train=False)\n",
    "    output = model.predict(model.data_loader)\n",
    "    means=[]\n",
    "    stds=[]\n",
    "    for comp in result['formula'].values:\n",
    "        if comp in output[2] and result.loc[result['formula']==comp]['disorder'].values[0]==True:\n",
    "            ind=list(output[2]).index(comp)\n",
    "            means.append(output[1][ind])\n",
    "            stds.append(output[3][ind])\n",
    "        else:\n",
    "            means.append(0)\n",
    "            stds.append(0)\n",
    "    result['ent_mean'+str(i)]=means\n",
    "    result['ent_std'+str(i)]=stds\n",
    "means=np.zeros(len(result))\n",
    "stds=np.zeros(len(result))\n",
    "for i in range(n_entropy_models):\n",
    "    means+=result['ent_mean'+str(i)]\n",
    "means=means/n_entropy_models\n",
    "for i in range(n_entropy_models):\n",
    "    stds+=(result['ent_mean'+str(i)]-means)**2+result['std'+str(i)]**2\n",
    "stds=(stds/n_entropy_models)**0.5\n",
    "\n",
    "result['entropy']=means\n",
    "result['std_entropy']=stds"
   ]
  },
  {
   "cell_type": "code",
   "execution_count": 140,
   "id": "c06e6e67",
   "metadata": {},
   "outputs": [],
   "source": [
    "# table=result[['formula','disorder','mean_dis_prob','std_dis_prob','entropy','std_entropy']]"
   ]
  },
  {
   "cell_type": "code",
   "execution_count": 160,
   "id": "f41d785c",
   "metadata": {},
   "outputs": [
    {
     "data": {
      "text/html": [
       "<div>\n",
       "<style scoped>\n",
       "    .dataframe tbody tr th:only-of-type {\n",
       "        vertical-align: middle;\n",
       "    }\n",
       "\n",
       "    .dataframe tbody tr th {\n",
       "        vertical-align: top;\n",
       "    }\n",
       "\n",
       "    .dataframe thead th {\n",
       "        text-align: right;\n",
       "    }\n",
       "</style>\n",
       "<table border=\"1\" class=\"dataframe\">\n",
       "  <thead>\n",
       "    <tr style=\"text-align: right;\">\n",
       "      <th></th>\n",
       "      <th>formula</th>\n",
       "      <th>target</th>\n",
       "      <th>disorder</th>\n",
       "      <th>mean_dis_prob</th>\n",
       "      <th>std_dis_prob</th>\n",
       "    </tr>\n",
       "  </thead>\n",
       "  <tbody>\n",
       "    <tr>\n",
       "      <th>0</th>\n",
       "      <td>Al2.475 Au5.25 Cu4.275</td>\n",
       "      <td>1</td>\n",
       "      <td>True</td>\n",
       "      <td>0.999300</td>\n",
       "      <td>0.279136</td>\n",
       "    </tr>\n",
       "    <tr>\n",
       "      <th>1</th>\n",
       "      <td>C3 As4 F24 N3 Te6</td>\n",
       "      <td>0</td>\n",
       "      <td>False</td>\n",
       "      <td>0.288203</td>\n",
       "      <td>2.306659</td>\n",
       "    </tr>\n",
       "    <tr>\n",
       "      <th>2</th>\n",
       "      <td>Ag0.87 Ge4 Na7.13 Se10</td>\n",
       "      <td>1</td>\n",
       "      <td>True</td>\n",
       "      <td>0.793963</td>\n",
       "      <td>3.540279</td>\n",
       "    </tr>\n",
       "    <tr>\n",
       "      <th>3</th>\n",
       "      <td>Ba7.998 Ca2.666 O23.994 W2.666 Zr2.666</td>\n",
       "      <td>1</td>\n",
       "      <td>True</td>\n",
       "      <td>0.993583</td>\n",
       "      <td>0.337009</td>\n",
       "    </tr>\n",
       "    <tr>\n",
       "      <th>4</th>\n",
       "      <td>Nb6 Sn4.92</td>\n",
       "      <td>1</td>\n",
       "      <td>True</td>\n",
       "      <td>0.966870</td>\n",
       "      <td>0.355740</td>\n",
       "    </tr>\n",
       "    <tr>\n",
       "      <th>5</th>\n",
       "      <td>Ge0.7 Sb0.2 Se0.5 Te0.5</td>\n",
       "      <td>1</td>\n",
       "      <td>True</td>\n",
       "      <td>0.999457</td>\n",
       "      <td>0.415968</td>\n",
       "    </tr>\n",
       "    <tr>\n",
       "      <th>6</th>\n",
       "      <td>Ba5 Cl1 Fe3.488 O13 Pt1.512</td>\n",
       "      <td>1</td>\n",
       "      <td>True</td>\n",
       "      <td>0.996665</td>\n",
       "      <td>0.387268</td>\n",
       "    </tr>\n",
       "    <tr>\n",
       "      <th>7</th>\n",
       "      <td>Cu3 O12 Ti4 Tm0.667</td>\n",
       "      <td>1</td>\n",
       "      <td>True</td>\n",
       "      <td>0.999997</td>\n",
       "      <td>0.219470</td>\n",
       "    </tr>\n",
       "    <tr>\n",
       "      <th>8</th>\n",
       "      <td>Al1 Mn0.5 O12 P3 Sb1</td>\n",
       "      <td>1</td>\n",
       "      <td>True</td>\n",
       "      <td>0.996310</td>\n",
       "      <td>0.463056</td>\n",
       "    </tr>\n",
       "    <tr>\n",
       "      <th>9</th>\n",
       "      <td>Ba2 Ca0.2 Cu2 Hg1.4 O8 Tl0.6 Y0.8</td>\n",
       "      <td>1</td>\n",
       "      <td>True</td>\n",
       "      <td>0.999997</td>\n",
       "      <td>0.327420</td>\n",
       "    </tr>\n",
       "    <tr>\n",
       "      <th>10</th>\n",
       "      <td>La5 Pb4</td>\n",
       "      <td>0</td>\n",
       "      <td>False</td>\n",
       "      <td>0.057262</td>\n",
       "      <td>1.919438</td>\n",
       "    </tr>\n",
       "    <tr>\n",
       "      <th>11</th>\n",
       "      <td>Ga3 Tb1</td>\n",
       "      <td>0</td>\n",
       "      <td>False</td>\n",
       "      <td>0.011981</td>\n",
       "      <td>2.407566</td>\n",
       "    </tr>\n",
       "    <tr>\n",
       "      <th>12</th>\n",
       "      <td>Ag8 Ge1 S6</td>\n",
       "      <td>0</td>\n",
       "      <td>True</td>\n",
       "      <td>0.503144</td>\n",
       "      <td>1.798139</td>\n",
       "    </tr>\n",
       "    <tr>\n",
       "      <th>13</th>\n",
       "      <td>Lu1 Te1</td>\n",
       "      <td>0</td>\n",
       "      <td>False</td>\n",
       "      <td>0.001302</td>\n",
       "      <td>3.314442</td>\n",
       "    </tr>\n",
       "    <tr>\n",
       "      <th>14</th>\n",
       "      <td>Ca9.95 Li1.05 O28 P7</td>\n",
       "      <td>1</td>\n",
       "      <td>True</td>\n",
       "      <td>0.837491</td>\n",
       "      <td>0.629636</td>\n",
       "    </tr>\n",
       "    <tr>\n",
       "      <th>15</th>\n",
       "      <td>O13 Rb2 Ti6</td>\n",
       "      <td>0</td>\n",
       "      <td>False</td>\n",
       "      <td>0.195842</td>\n",
       "      <td>1.110299</td>\n",
       "    </tr>\n",
       "    <tr>\n",
       "      <th>16</th>\n",
       "      <td>Ba1.968 Cu3 O7 Pr0.216 Y0.816</td>\n",
       "      <td>1</td>\n",
       "      <td>True</td>\n",
       "      <td>0.999995</td>\n",
       "      <td>0.292382</td>\n",
       "    </tr>\n",
       "    <tr>\n",
       "      <th>17</th>\n",
       "      <td>Al0.9 K0.9 O2 Ti0.1</td>\n",
       "      <td>1</td>\n",
       "      <td>True</td>\n",
       "      <td>0.991968</td>\n",
       "      <td>0.564222</td>\n",
       "    </tr>\n",
       "    <tr>\n",
       "      <th>18</th>\n",
       "      <td>La1.72 Si4 Y3.28</td>\n",
       "      <td>1</td>\n",
       "      <td>True</td>\n",
       "      <td>0.999989</td>\n",
       "      <td>0.195233</td>\n",
       "    </tr>\n",
       "    <tr>\n",
       "      <th>19</th>\n",
       "      <td>H2 Cd1 I3 O1 Rb1</td>\n",
       "      <td>0</td>\n",
       "      <td>False</td>\n",
       "      <td>0.020019</td>\n",
       "      <td>1.860216</td>\n",
       "    </tr>\n",
       "    <tr>\n",
       "      <th>20</th>\n",
       "      <td>Cl3 Cs1 Li2</td>\n",
       "      <td>0</td>\n",
       "      <td>False</td>\n",
       "      <td>0.027877</td>\n",
       "      <td>1.910489</td>\n",
       "    </tr>\n",
       "    <tr>\n",
       "      <th>21</th>\n",
       "      <td>Co0.2 Ge1 Pd0.8 U1</td>\n",
       "      <td>1</td>\n",
       "      <td>True</td>\n",
       "      <td>0.999930</td>\n",
       "      <td>0.327773</td>\n",
       "    </tr>\n",
       "    <tr>\n",
       "      <th>22</th>\n",
       "      <td>Bi8 Cs2 Se13</td>\n",
       "      <td>0</td>\n",
       "      <td>True</td>\n",
       "      <td>0.972951</td>\n",
       "      <td>0.482619</td>\n",
       "    </tr>\n",
       "    <tr>\n",
       "      <th>23</th>\n",
       "      <td>Co0.2 Li0.972 Ni0.828 O2</td>\n",
       "      <td>1</td>\n",
       "      <td>True</td>\n",
       "      <td>0.999835</td>\n",
       "      <td>0.259550</td>\n",
       "    </tr>\n",
       "    <tr>\n",
       "      <th>24</th>\n",
       "      <td>Ba1 F9 Fe2 Na1</td>\n",
       "      <td>0</td>\n",
       "      <td>True</td>\n",
       "      <td>0.838824</td>\n",
       "      <td>0.432343</td>\n",
       "    </tr>\n",
       "    <tr>\n",
       "      <th>25</th>\n",
       "      <td>Ba1 Bi2 Mo4 O16</td>\n",
       "      <td>0</td>\n",
       "      <td>False</td>\n",
       "      <td>0.013196</td>\n",
       "      <td>2.348015</td>\n",
       "    </tr>\n",
       "    <tr>\n",
       "      <th>26</th>\n",
       "      <td>H9 Al7 Cu16 Zr6</td>\n",
       "      <td>0</td>\n",
       "      <td>True</td>\n",
       "      <td>0.998202</td>\n",
       "      <td>0.406014</td>\n",
       "    </tr>\n",
       "    <tr>\n",
       "      <th>27</th>\n",
       "      <td>Cs1 O6 Sb1 U1</td>\n",
       "      <td>1</td>\n",
       "      <td>False</td>\n",
       "      <td>0.439243</td>\n",
       "      <td>1.120906</td>\n",
       "    </tr>\n",
       "    <tr>\n",
       "      <th>28</th>\n",
       "      <td>Na1 O14 Pr1 Si6</td>\n",
       "      <td>0</td>\n",
       "      <td>False</td>\n",
       "      <td>0.045761</td>\n",
       "      <td>9.994938</td>\n",
       "    </tr>\n",
       "    <tr>\n",
       "      <th>29</th>\n",
       "      <td>C4 Dy2 Fe1</td>\n",
       "      <td>0</td>\n",
       "      <td>False</td>\n",
       "      <td>0.054093</td>\n",
       "      <td>2.022465</td>\n",
       "    </tr>\n",
       "  </tbody>\n",
       "</table>\n",
       "</div>"
      ],
      "text/plain": [
       "                                   formula  target  disorder  mean_dis_prob  \\\n",
       "0                   Al2.475 Au5.25 Cu4.275       1      True       0.999300   \n",
       "1                        C3 As4 F24 N3 Te6       0     False       0.288203   \n",
       "2                   Ag0.87 Ge4 Na7.13 Se10       1      True       0.793963   \n",
       "3   Ba7.998 Ca2.666 O23.994 W2.666 Zr2.666       1      True       0.993583   \n",
       "4                               Nb6 Sn4.92       1      True       0.966870   \n",
       "5                  Ge0.7 Sb0.2 Se0.5 Te0.5       1      True       0.999457   \n",
       "6              Ba5 Cl1 Fe3.488 O13 Pt1.512       1      True       0.996665   \n",
       "7                      Cu3 O12 Ti4 Tm0.667       1      True       0.999997   \n",
       "8                     Al1 Mn0.5 O12 P3 Sb1       1      True       0.996310   \n",
       "9        Ba2 Ca0.2 Cu2 Hg1.4 O8 Tl0.6 Y0.8       1      True       0.999997   \n",
       "10                                 La5 Pb4       0     False       0.057262   \n",
       "11                                 Ga3 Tb1       0     False       0.011981   \n",
       "12                              Ag8 Ge1 S6       0      True       0.503144   \n",
       "13                                 Lu1 Te1       0     False       0.001302   \n",
       "14                    Ca9.95 Li1.05 O28 P7       1      True       0.837491   \n",
       "15                             O13 Rb2 Ti6       0     False       0.195842   \n",
       "16           Ba1.968 Cu3 O7 Pr0.216 Y0.816       1      True       0.999995   \n",
       "17                     Al0.9 K0.9 O2 Ti0.1       1      True       0.991968   \n",
       "18                        La1.72 Si4 Y3.28       1      True       0.999989   \n",
       "19                        H2 Cd1 I3 O1 Rb1       0     False       0.020019   \n",
       "20                             Cl3 Cs1 Li2       0     False       0.027877   \n",
       "21                      Co0.2 Ge1 Pd0.8 U1       1      True       0.999930   \n",
       "22                            Bi8 Cs2 Se13       0      True       0.972951   \n",
       "23                Co0.2 Li0.972 Ni0.828 O2       1      True       0.999835   \n",
       "24                          Ba1 F9 Fe2 Na1       0      True       0.838824   \n",
       "25                         Ba1 Bi2 Mo4 O16       0     False       0.013196   \n",
       "26                         H9 Al7 Cu16 Zr6       0      True       0.998202   \n",
       "27                           Cs1 O6 Sb1 U1       1     False       0.439243   \n",
       "28                         Na1 O14 Pr1 Si6       0     False       0.045761   \n",
       "29                              C4 Dy2 Fe1       0     False       0.054093   \n",
       "\n",
       "    std_dis_prob  \n",
       "0       0.279136  \n",
       "1       2.306659  \n",
       "2       3.540279  \n",
       "3       0.337009  \n",
       "4       0.355740  \n",
       "5       0.415968  \n",
       "6       0.387268  \n",
       "7       0.219470  \n",
       "8       0.463056  \n",
       "9       0.327420  \n",
       "10      1.919438  \n",
       "11      2.407566  \n",
       "12      1.798139  \n",
       "13      3.314442  \n",
       "14      0.629636  \n",
       "15      1.110299  \n",
       "16      0.292382  \n",
       "17      0.564222  \n",
       "18      0.195233  \n",
       "19      1.860216  \n",
       "20      1.910489  \n",
       "21      0.327773  \n",
       "22      0.482619  \n",
       "23      0.259550  \n",
       "24      0.432343  \n",
       "25      2.348015  \n",
       "26      0.406014  \n",
       "27      1.120906  \n",
       "28      9.994938  \n",
       "29      2.022465  "
      ]
     },
     "execution_count": 160,
     "metadata": {},
     "output_type": "execute_result"
    }
   ],
   "source": [
    "table=result[['formula','target','disorder','mean_dis_prob','std_dis_prob']]\n",
    "table.head(30)"
   ]
  },
  {
   "cell_type": "code",
   "execution_count": 142,
   "id": "6e73d30a",
   "metadata": {},
   "outputs": [],
   "source": [
    "# from sklearn.metrics import accuracy_score,confusion_matrix, precision_score,recall_score\n",
    "\n",
    "# accuracy_score(table['target'],table['disorder'])"
   ]
  },
  {
   "cell_type": "code",
   "execution_count": 143,
   "id": "3f395ef1",
   "metadata": {},
   "outputs": [],
   "source": [
    "# precision_score(table['target'],table['disorder'])"
   ]
  },
  {
   "cell_type": "code",
   "execution_count": 144,
   "id": "58d9a863",
   "metadata": {},
   "outputs": [],
   "source": [
    "# recall_score(table['target'],table['disorder'])"
   ]
  },
  {
   "cell_type": "code",
   "execution_count": 145,
   "id": "a996631c",
   "metadata": {},
   "outputs": [],
   "source": [
    "# tn, fp, fn, tp = confusion_matrix(table['target'],table['disorder']).ravel()\n",
    "# tn, fp, fn, tp"
   ]
  },
  {
   "cell_type": "code",
   "execution_count": 146,
   "id": "9072b462",
   "metadata": {},
   "outputs": [],
   "source": [
    "for entry in entries:\n",
    "    dx=result.loc[result['formula']==entry.composition.formula]\n",
    "    entry.data['disorder']=dx['disorder'].values[0]\n",
    "    entry.data['configurational_entropy']=round(dx['entropy'].values[0],3)"
   ]
  },
  {
   "cell_type": "code",
   "execution_count": 147,
   "id": "037412a0",
   "metadata": {},
   "outputs": [],
   "source": [
    "phased = PhaseDiagram(entries)"
   ]
  },
  {
   "cell_type": "code",
   "execution_count": 148,
   "id": "774fb5cc",
   "metadata": {},
   "outputs": [
    {
     "data": {
      "application/vnd.plotly.v1+json": {
       "config": {
        "plotlyServerURL": "https://plot.ly"
       },
       "data": [
        {
         "a": [
          149,
          1,
          null,
          4,
          0,
          null,
          17,
          149,
          null,
          0,
          0,
          null,
          149,
          0,
          null,
          149,
          0,
          null,
          0,
          0,
          null,
          0,
          0,
          null,
          0,
          149,
          null,
          0,
          17,
          null,
          149,
          1,
          null,
          0,
          149,
          null,
          0,
          4,
          null,
          149,
          149,
          null,
          4,
          17,
          null,
          0,
          149,
          null,
          0,
          0,
          null
         ],
         "b": [
          1,
          0,
          null,
          8,
          1,
          null,
          12,
          1,
          null,
          1,
          39,
          null,
          0,
          0,
          null,
          1,
          0,
          null,
          1,
          0,
          null,
          1,
          1,
          null,
          39,
          1,
          null,
          39,
          12,
          null,
          0,
          0,
          null,
          1,
          1,
          null,
          39,
          8,
          null,
          0,
          1,
          null,
          8,
          12,
          null,
          1,
          1,
          null,
          39,
          1,
          null
         ],
         "c": [
          0,
          0,
          null,
          0,
          0,
          null,
          0,
          0,
          null,
          1,
          12,
          null,
          1,
          1,
          null,
          0,
          1,
          null,
          3,
          1,
          null,
          1,
          3,
          null,
          12,
          0,
          null,
          12,
          0,
          null,
          1,
          0,
          null,
          1,
          0,
          null,
          12,
          0,
          null,
          1,
          0,
          null,
          0,
          0,
          null,
          3,
          0,
          null,
          12,
          0,
          null
         ],
         "hoverinfo": "none",
         "line": {
          "color": "black",
          "width": 1.5
         },
         "mode": "lines",
         "showlegend": false,
         "type": "scatterternary"
        },
        {
         "a": [
          0,
          0,
          4
         ],
         "b": [
          1,
          39,
          8
         ],
         "c": [
          0,
          12,
          0
         ],
         "fill": "toself",
         "fillcolor": "#2E91E5",
         "hovertemplate": "<extra></extra>",
         "line": {
          "width": 0
         },
         "mode": "lines",
         "name": "Al—Al<sub>13</sub>Fe<sub>4</sub>—MgAl<sub>2</sub>",
         "opacity": 0.15,
         "showlegend": false,
         "type": "scatterternary"
        },
        {
         "a": [
          0,
          17,
          4
         ],
         "b": [
          39,
          12,
          8
         ],
         "c": [
          12,
          0,
          0
         ],
         "fill": "toself",
         "fillcolor": "#E15F99",
         "hovertemplate": "<extra></extra>",
         "line": {
          "width": 0
         },
         "mode": "lines",
         "name": "Al<sub>13</sub>Fe<sub>4</sub>—Mg<sub>17</sub>Al<sub>12</sub>—MgAl<sub>2</sub>",
         "opacity": 0.15,
         "showlegend": false,
         "type": "scatterternary"
        },
        {
         "a": [
          0,
          149,
          17
         ],
         "b": [
          39,
          1,
          12
         ],
         "c": [
          12,
          0,
          0
         ],
         "fill": "toself",
         "fillcolor": "#1CA71C",
         "hovertemplate": "<extra></extra>",
         "line": {
          "width": 0
         },
         "mode": "lines",
         "name": "Al<sub>13</sub>Fe<sub>4</sub>—Mg<sub>149</sub>Al—Mg<sub>17</sub>Al<sub>12</sub>",
         "opacity": 0.15,
         "showlegend": false,
         "type": "scatterternary"
        },
        {
         "a": [
          0,
          0,
          149
         ],
         "b": [
          39,
          1,
          1
         ],
         "c": [
          12,
          1,
          0
         ],
         "fill": "toself",
         "fillcolor": "#FB0D0D",
         "hovertemplate": "<extra></extra>",
         "line": {
          "width": 0
         },
         "mode": "lines",
         "name": "Al<sub>13</sub>Fe<sub>4</sub>—AlFe—Mg<sub>149</sub>Al",
         "opacity": 0.15,
         "showlegend": false,
         "type": "scatterternary"
        },
        {
         "a": [
          1,
          149,
          149
         ],
         "b": [
          0,
          1,
          0
         ],
         "c": [
          0,
          0,
          1
         ],
         "fill": "toself",
         "fillcolor": "#DA16FF",
         "hovertemplate": "<extra></extra>",
         "line": {
          "width": 0
         },
         "mode": "lines",
         "name": "Mg—Mg<sub>149</sub>Al—Mg<sub>149</sub>Fe",
         "opacity": 0.15,
         "showlegend": false,
         "type": "scatterternary"
        },
        {
         "a": [
          0,
          0,
          149
         ],
         "b": [
          1,
          1,
          1
         ],
         "c": [
          1,
          3,
          0
         ],
         "fill": "toself",
         "fillcolor": "#222A2A",
         "hovertemplate": "<extra></extra>",
         "line": {
          "width": 0
         },
         "mode": "lines",
         "name": "AlFe—AlFe<sub>3</sub>—Mg<sub>149</sub>Al",
         "opacity": 0.15,
         "showlegend": false,
         "type": "scatterternary"
        },
        {
         "a": [
          0,
          0,
          149
         ],
         "b": [
          1,
          0,
          1
         ],
         "c": [
          3,
          1,
          0
         ],
         "fill": "toself",
         "fillcolor": "#B68100",
         "hovertemplate": "<extra></extra>",
         "line": {
          "width": 0
         },
         "mode": "lines",
         "name": "AlFe<sub>3</sub>—Fe—Mg<sub>149</sub>Al",
         "opacity": 0.15,
         "showlegend": false,
         "type": "scatterternary"
        },
        {
         "a": [
          0,
          149,
          149
         ],
         "b": [
          0,
          1,
          0
         ],
         "c": [
          1,
          0,
          1
         ],
         "fill": "toself",
         "fillcolor": "#750D86",
         "hovertemplate": "<extra></extra>",
         "line": {
          "width": 0
         },
         "mode": "lines",
         "name": "Fe—Mg<sub>149</sub>Al—Mg<sub>149</sub>Fe",
         "opacity": 0.15,
         "showlegend": false,
         "type": "scatterternary"
        },
        {
         "a": [
          149,
          1,
          4,
          0,
          17,
          0,
          0,
          149,
          0,
          0
         ],
         "b": [
          1,
          0,
          8,
          1,
          12,
          1,
          39,
          0,
          0,
          1
         ],
         "c": [
          0,
          0,
          0,
          0,
          0,
          1,
          12,
          1,
          1,
          3
         ],
         "cliponaxis": false,
         "hoverinfo": "text",
         "hoverlabel": {
          "font": {
           "size": 14
          }
         },
         "hovertext": [
          "Mg<sub>149</sub>Al (mp-1185596-GGA) <br> disorder = True <br> entropy = 0.041 k_B/atom (0.00107 eV/atom at 300K)  <br> -0.027 eV/atom (Stable)",
          "Mg (mp-1056702-GGA) <br> disorder = False <br> entropy = 0.0 k_B/atom (0.0 eV/atom at 300K)  <br> 0.0 eV/atom (Stable)",
          "MgAl<sub>2</sub> (mp-1094116-GGA) <br> disorder = False <br> entropy = 0.0 k_B/atom (0.0 eV/atom at 300K)  <br> -0.022 eV/atom (Stable)",
          "Al (mp-134-GGA) <br> disorder = False <br> entropy = 0.0 k_B/atom (0.0 eV/atom at 300K)  <br> 0.0 eV/atom (Stable)",
          "Mg<sub>17</sub>Al<sub>12</sub> (mp-2151-GGA) <br> disorder = False <br> entropy = 0.0 k_B/atom (0.0 eV/atom at 300K)  <br> -0.027 eV/atom (Stable)",
          "AlFe (mp-2658-GGA) <br> disorder = False <br> entropy = 0.0 k_B/atom (0.0 eV/atom at 300K)  <br> -0.327 eV/atom (Stable)",
          "Al<sub>13</sub>Fe<sub>4</sub> (mp-1202900-GGA) <br> disorder = True <br> entropy = 0.021 k_B/atom (0.00055 eV/atom at 300K)  <br> -0.327 eV/atom (Stable)",
          "Mg<sub>149</sub>Fe (mp-1185592-GGA) <br> disorder = True <br> entropy = 0.037 k_B/atom (0.00096 eV/atom at 300K)  <br> -0.014 eV/atom (Stable)",
          "Fe (mp-13-GGA) <br> disorder = False <br> entropy = 0.0 k_B/atom (0.0 eV/atom at 300K)  <br> 0.0 eV/atom (Stable)",
          "AlFe<sub>3</sub> (mp-1183162-GGA) <br> disorder = True <br> entropy = 0.566 k_B/atom (0.01472 eV/atom at 300K)  <br> -0.199 eV/atom (Stable)"
         ],
         "marker": {
          "color": "green",
          "line": {
           "color": "black",
           "width": 2
          },
          "size": 15,
          "symbol": "circle"
         },
         "mode": "markers",
         "name": "Stable",
         "showlegend": true,
         "type": "scatterternary"
        },
        {
         "a": [
          0,
          0,
          0,
          0,
          0,
          0,
          0,
          0,
          0,
          0,
          0,
          0,
          0,
          0,
          0,
          0,
          0,
          0,
          0,
          0,
          0,
          0,
          0,
          0,
          1,
          1,
          3,
          10,
          2,
          4,
          1,
          1,
          2,
          1,
          1,
          4,
          1,
          1,
          2,
          1,
          4,
          8,
          3,
          6,
          3,
          3,
          3,
          7,
          7,
          13,
          13,
          14,
          14,
          15,
          15,
          16,
          16,
          16,
          16,
          18,
          23,
          41
         ],
         "b": [
          0,
          0,
          0,
          0,
          0,
          0,
          100,
          100,
          4,
          2,
          100,
          100,
          100,
          1,
          1,
          2,
          1,
          1,
          1,
          6,
          12,
          16,
          18,
          12,
          0,
          0,
          0,
          0,
          0,
          0,
          1,
          1,
          2,
          1,
          1,
          8,
          2,
          3,
          6,
          3,
          0,
          12,
          1,
          2,
          1,
          1,
          1,
          0,
          1,
          14,
          16,
          1,
          1,
          0,
          1,
          12,
          13,
          13,
          13,
          11,
          30,
          67
         ],
         "c": [
          28,
          1,
          4,
          4,
          2,
          2,
          0,
          0,
          0,
          0,
          0,
          0,
          0,
          0,
          2,
          4,
          3,
          3,
          4,
          2,
          2,
          10,
          4,
          7,
          0,
          0,
          0,
          0,
          0,
          0,
          0,
          0,
          0,
          0,
          0,
          0,
          0,
          0,
          0,
          0,
          2,
          0,
          0,
          0,
          0,
          0,
          0,
          1,
          0,
          0,
          0,
          1,
          1,
          1,
          0,
          1,
          0,
          0,
          0,
          0,
          0,
          0
         ],
         "cliponaxis": false,
         "hoverinfo": "text",
         "hoverlabel": {
          "font": {
           "size": 14
          }
         },
         "hovertext": [
          "Fe (mp-1194030-GGA) <br> disorder = False <br> entropy = 0.0 k_B/atom (0.0 eV/atom at 300K)  <br> 0.175 eV/atom (+0.175 eV/atom)",
          "Fe (mp-150-GGA) <br> disorder = False <br> entropy = 0.0 k_B/atom (0.0 eV/atom at 300K)  <br> 0.148 eV/atom (+0.148 eV/atom)",
          "Fe (mp-1271198-GGA) <br> disorder = False <br> entropy = 0.0 k_B/atom (0.0 eV/atom at 300K)  <br> 0.055 eV/atom (+0.055 eV/atom)",
          "Fe (mp-1271068-GGA) <br> disorder = False <br> entropy = 0.0 k_B/atom (0.0 eV/atom at 300K)  <br> 0.017 eV/atom (+0.017 eV/atom)",
          "Fe (mp-1271128-GGA) <br> disorder = False <br> entropy = 0.0 k_B/atom (0.0 eV/atom at 300K)  <br> 0.099 eV/atom (+0.099 eV/atom)",
          "Fe (mp-136-GGA) <br> disorder = False <br> entropy = 0.0 k_B/atom (0.0 eV/atom at 300K)  <br> 0.098 eV/atom (+0.098 eV/atom)",
          "Al (mp-1245129-GGA) <br> disorder = False <br> entropy = 0.0 k_B/atom (0.0 eV/atom at 300K)  <br> 0.095 eV/atom (+0.095 eV/atom)",
          "Al (mp-1245152-GGA) <br> disorder = False <br> entropy = 0.0 k_B/atom (0.0 eV/atom at 300K)  <br> 0.102 eV/atom (+0.102 eV/atom)",
          "Al (mp-1183144-GGA) <br> disorder = False <br> entropy = 0.0 k_B/atom (0.0 eV/atom at 300K)  <br> 0.011 eV/atom (+0.011 eV/atom)",
          "Al (mp-2647008-GGA) <br> disorder = False <br> entropy = 0.0 k_B/atom (0.0 eV/atom at 300K)  <br> 0.032 eV/atom (+0.032 eV/atom)",
          "Al (mp-1245307-GGA) <br> disorder = False <br> entropy = 0.0 k_B/atom (0.0 eV/atom at 300K)  <br> 0.108 eV/atom (+0.108 eV/atom)",
          "Al (mp-1244953-GGA) <br> disorder = False <br> entropy = 0.0 k_B/atom (0.0 eV/atom at 300K)  <br> 0.096 eV/atom (+0.096 eV/atom)",
          "Al (mp-1245067-GGA) <br> disorder = False <br> entropy = 0.0 k_B/atom (0.0 eV/atom at 300K)  <br> 0.114 eV/atom (+0.114 eV/atom)",
          "Al (mp-998860-GGA) <br> disorder = False <br> entropy = 0.0 k_B/atom (0.0 eV/atom at 300K)  <br> 0.092 eV/atom (+0.092 eV/atom)",
          "AlFe<sub>2</sub> (mp-985579-GGA) <br> disorder = False <br> entropy = 0.0 k_B/atom (0.0 eV/atom at 300K)  <br> -0.141 eV/atom (+0.1 eV/atom)",
          "AlFe<sub>2</sub> (mp-31184-GGA) <br> disorder = False <br> entropy = 0.0 k_B/atom (0.0 eV/atom at 300K)  <br> -0.105 eV/atom (+0.137 eV/atom)",
          "AlFe<sub>3</sub> (mp-2018-GGA) <br> disorder = True <br> entropy = 0.566 k_B/atom (0.01472 eV/atom at 300K)  <br> -0.197 eV/atom (+0.002 eV/atom)",
          "AlFe<sub>3</sub> (mp-1228919-GGA) <br> disorder = True <br> entropy = 0.566 k_B/atom (0.01472 eV/atom at 300K)  <br> -0.086 eV/atom (+0.113 eV/atom)",
          "AlFe<sub>4</sub> (mp-1228952-GGA) <br> disorder = True <br> entropy = 0.502 k_B/atom (0.01305 eV/atom at 300K)  <br> -0.063 eV/atom (+0.096 eV/atom)",
          "Al<sub>3</sub>Fe (mp-984873-GGA) <br> disorder = True <br> entropy = 0.021 k_B/atom (0.00055 eV/atom at 300K)  <br> -0.154 eV/atom (+0.173 eV/atom)",
          "Al<sub>6</sub>Fe (mp-570001-GGA) <br> disorder = False <br> entropy = 0.0 k_B/atom (0.0 eV/atom at 300K)  <br> -0.196 eV/atom (+0.003 eV/atom)",
          "Al<sub>8</sub>Fe<sub>5</sub> (mp-1193259-GGA) <br> disorder = True <br> entropy = 0.117 k_B/atom (0.00304 eV/atom at 300K)  <br> -0.28 eV/atom (+0.046 eV/atom)",
          "Al<sub>9</sub>Fe<sub>2</sub> (mp-1191778-GGA) <br> disorder = False <br> entropy = 0.0 k_B/atom (0.0 eV/atom at 300K)  <br> -0.235 eV/atom (+0.018 eV/atom)",
          "Al<sub>12</sub>Fe<sub>7</sub> (mp-1214901-GGA) <br> disorder = True <br> entropy = 0.166 k_B/atom (0.00432 eV/atom at 300K)  <br> -0.313 eV/atom (+0.014 eV/atom)",
          "Mg (mp-110-GGA) <br> disorder = False <br> entropy = 0.0 k_B/atom (0.0 eV/atom at 300K)  <br> 0.026 eV/atom (+0.026 eV/atom)",
          "Mg (mp-1056351-GGA) <br> disorder = False <br> entropy = 0.0 k_B/atom (0.0 eV/atom at 300K)  <br> 0.029 eV/atom (+0.029 eV/atom)",
          "Mg (mp-1094122-GGA) <br> disorder = False <br> entropy = 0.0 k_B/atom (0.0 eV/atom at 300K)  <br> 0.003 eV/atom (+0.003 eV/atom)",
          "Mg (mp-1247180-GGA) <br> disorder = False <br> entropy = 0.0 k_B/atom (0.0 eV/atom at 300K)  <br> 0.177 eV/atom (+0.177 eV/atom)",
          "Mg (mp-153-GGA) <br> disorder = False <br> entropy = 0.0 k_B/atom (0.0 eV/atom at 300K)  <br> 0.009 eV/atom (+0.009 eV/atom)",
          "Mg (mp-973364-GGA) <br> disorder = False <br> entropy = 0.0 k_B/atom (0.0 eV/atom at 300K)  <br> 0.013 eV/atom (+0.013 eV/atom)",
          "MgAl (mp-1039141-GGA) <br> disorder = False <br> entropy = 0.0 k_B/atom (0.0 eV/atom at 300K)  <br> -0.001 eV/atom (+0.025 eV/atom)",
          "MgAl (mp-1038934-GGA) <br> disorder = False <br> entropy = 0.0 k_B/atom (0.0 eV/atom at 300K)  <br> 0.065 eV/atom (+0.09 eV/atom)",
          "MgAl (mp-1094987-GGA) <br> disorder = False <br> entropy = 0.0 k_B/atom (0.0 eV/atom at 300K)  <br> 0.029 eV/atom (+0.055 eV/atom)",
          "MgAl (mp-1039019-GGA) <br> disorder = False <br> entropy = 0.0 k_B/atom (0.0 eV/atom at 300K)  <br> 0.038 eV/atom (+0.064 eV/atom)",
          "MgAl (mp-1038779-GGA) <br> disorder = False <br> entropy = 0.0 k_B/atom (0.0 eV/atom at 300K)  <br> 0.05 eV/atom (+0.075 eV/atom)",
          "MgAl<sub>2</sub> (mp-1102064-GGA) <br> disorder = False <br> entropy = 0.0 k_B/atom (0.0 eV/atom at 300K)  <br> 0.02 eV/atom (+0.042 eV/atom)",
          "MgAl<sub>2</sub> (mp-1222013-GGA) <br> disorder = False <br> entropy = 0.0 k_B/atom (0.0 eV/atom at 300K)  <br> 0.044 eV/atom (+0.066 eV/atom)",
          "MgAl<sub>3</sub> (mp-1039180-GGA) <br> disorder = False <br> entropy = 0.0 k_B/atom (0.0 eV/atom at 300K)  <br> 0.085 eV/atom (+0.102 eV/atom)",
          "MgAl<sub>3</sub> (mp-1039119-GGA) <br> disorder = False <br> entropy = 0.0 k_B/atom (0.0 eV/atom at 300K)  <br> 0.018 eV/atom (+0.034 eV/atom)",
          "MgAl<sub>3</sub> (mp-1038916-GGA) <br> disorder = False <br> entropy = 0.0 k_B/atom (0.0 eV/atom at 300K)  <br> 0.009 eV/atom (+0.025 eV/atom)",
          "Mg<sub>2</sub>Fe (mp-1094145-GGA) <br> disorder = False <br> entropy = 0.0 k_B/atom (0.0 eV/atom at 300K)  <br> 0.147 eV/atom (+0.157 eV/atom)",
          "Mg<sub>2</sub>Al<sub>3</sub> (mp-1210739-GGA) <br> disorder = True <br> entropy = 0.195 k_B/atom (0.00507 eV/atom at 300K)  <br> 0.094 eV/atom (+0.117 eV/atom)",
          "Mg<sub>3</sub>Al (mp-1016233-GGA) <br> disorder = True <br> entropy = 0.524 k_B/atom (0.01362 eV/atom at 300K)  <br> 0.028 eV/atom (+0.055 eV/atom)",
          "Mg<sub>3</sub>Al (mp-1094970-GGA) <br> disorder = True <br> entropy = 0.524 k_B/atom (0.01362 eV/atom at 300K)  <br> 0.007 eV/atom (+0.034 eV/atom)",
          "Mg<sub>3</sub>Al (mp-978271-GGA) <br> disorder = True <br> entropy = 0.524 k_B/atom (0.01362 eV/atom at 300K)  <br> -0.001 eV/atom (+0.026 eV/atom)",
          "Mg<sub>3</sub>Al (mp-1094961-GGA) <br> disorder = True <br> entropy = 0.524 k_B/atom (0.01362 eV/atom at 300K)  <br> 0.017 eV/atom (+0.044 eV/atom)",
          "Mg<sub>3</sub>Al (mp-1094666-GGA) <br> disorder = True <br> entropy = 0.524 k_B/atom (0.01362 eV/atom at 300K)  <br> 0.048 eV/atom (+0.075 eV/atom)",
          "Mg<sub>7</sub>Fe (mp-1016317-GGA) <br> disorder = True <br> entropy = 0.12 k_B/atom (0.00312 eV/atom at 300K)  <br> 0.147 eV/atom (+0.16 eV/atom)",
          "Mg<sub>7</sub>Al (mp-1016271-GGA) <br> disorder = False <br> entropy = 0.0 k_B/atom (0.0 eV/atom at 300K)  <br> 0.015 eV/atom (+0.042 eV/atom)",
          "Mg<sub>13</sub>Al<sub>14</sub> (mp-12766-GGA) <br> disorder = False <br> entropy = 0.0 k_B/atom (0.0 eV/atom at 300K)  <br> 0.064 eV/atom (+0.089 eV/atom)",
          "Mg<sub>13</sub>Al<sub>16</sub> (mp-1194114-GGA) <br> disorder = False <br> entropy = 0.0 k_B/atom (0.0 eV/atom at 300K)  <br> 0.02 eV/atom (+0.044 eV/atom)",
          "Mg<sub>14</sub>AlFe (mp-1028207-GGA) <br> disorder = True <br> entropy = 0.189 k_B/atom (0.00491 eV/atom at 300K)  <br> 0.107 eV/atom (+0.168 eV/atom)",
          "Mg<sub>14</sub>AlFe (mp-1028219-GGA) <br> disorder = True <br> entropy = 0.189 k_B/atom (0.00491 eV/atom at 300K)  <br> 0.11 eV/atom (+0.172 eV/atom)",
          "Mg<sub>15</sub>Fe (mp-1023632-GGA) <br> disorder = True <br> entropy = 0.229 k_B/atom (0.00595 eV/atom at 300K)  <br> 0.079 eV/atom (+0.093 eV/atom)",
          "Mg<sub>15</sub>Al (mp-1023506-GGA) <br> disorder = True <br> entropy = 0.23 k_B/atom (0.00598 eV/atom at 300K)  <br> 0.011 eV/atom (+0.039 eV/atom)",
          "Mg<sub>16</sub>Al<sub>12</sub>Fe (mp-1185661-GGA) <br> disorder = True <br> entropy = 0.137 k_B/atom (0.00356 eV/atom at 300K)  <br> 0.009 eV/atom (+0.079 eV/atom)",
          "Mg<sub>16</sub>Al<sub>13</sub> (mp-1094683-GGA) <br> disorder = False <br> entropy = 0.0 k_B/atom (0.0 eV/atom at 300K)  <br> -0.016 eV/atom (+0.01 eV/atom)",
          "Mg<sub>16</sub>Al<sub>13</sub> (mp-1094685-GGA) <br> disorder = False <br> entropy = 0.0 k_B/atom (0.0 eV/atom at 300K)  <br> -0.022 eV/atom (+0.004 eV/atom)",
          "Mg<sub>16</sub>Al<sub>13</sub> (mp-1094692-GGA) <br> disorder = False <br> entropy = 0.0 k_B/atom (0.0 eV/atom at 300K)  <br> -0.019 eV/atom (+0.008 eV/atom)",
          "Mg<sub>18</sub>Al<sub>11</sub> (mp-1094700-GGA) <br> disorder = True <br> entropy = 0.15 k_B/atom (0.0039 eV/atom at 300K)  <br> -0.015 eV/atom (+0.012 eV/atom)",
          "Mg<sub>23</sub>Al<sub>30</sub> (mp-17659-GGA) <br> disorder = False <br> entropy = 0.0 k_B/atom (0.0 eV/atom at 300K)  <br> -0.023 eV/atom (+0.001 eV/atom)",
          "Mg<sub>41</sub>Al<sub>67</sub> (mp-568106-GGA) <br> disorder = True <br> entropy = 0.214 k_B/atom (0.00556 eV/atom at 300K)  <br> 0.029 eV/atom (+0.052 eV/atom)"
         ],
         "marker": {
          "color": [
           0.175,
           0.148,
           0.055,
           0.017,
           0.099,
           0.098,
           0.095,
           0.102,
           0.011,
           0.032,
           0.108,
           0.096,
           0.114,
           0.092,
           0.1,
           0.137,
           0.002,
           0.113,
           0.096,
           0.173,
           0.003,
           0.046,
           0.018,
           0.014,
           0.026,
           0.029,
           0.003,
           0.177,
           0.009,
           0.013,
           0.025,
           0.09,
           0.055,
           0.064,
           0.075,
           0.042,
           0.066,
           0.102,
           0.034,
           0.025,
           0.157,
           0.117,
           0.055,
           0.034,
           0.026,
           0.044,
           0.075,
           0.16,
           0.042,
           0.089,
           0.044,
           0.168,
           0.172,
           0.093,
           0.039,
           0.079,
           0.01,
           0.004,
           0.008,
           0.012,
           0.001,
           0.052
          ],
          "colorbar": {
           "len": 0.5,
           "thickness": 0.02,
           "thicknessmode": "fraction",
           "title": {
            "text": "Energy Above Hull<br>(eV/atom)"
           },
           "x": 0,
           "xpad": 0,
           "y": 1,
           "yanchor": "top",
           "ypad": 0
          },
          "colorscale": [
           [
            0,
            "#fff5e3"
           ],
           [
            0.5,
            "#f24324"
           ],
           [
            1,
            "#c40000"
           ]
          ],
          "line": {
           "color": "black",
           "width": 1
          },
          "opacity": 0.8,
          "size": 7,
          "symbol": "diamond"
         },
         "mode": "markers",
         "name": "Above Hull",
         "showlegend": true,
         "type": "scatterternary"
        }
       ],
       "layout": {
        "autosize": true,
        "coloraxis": {
         "colorbar": {
          "x": 1,
          "y": 0.05,
          "yanchor": "top"
         }
        },
        "margin": {
         "b": 40,
         "l": 20,
         "r": 20,
         "t": 40
        },
        "paper_bgcolor": "rgba(0, 0, 0, 0)",
        "plot_bgcolor": "rgba(0, 0, 0, 0)",
        "showlegend": true,
        "template": {
         "data": {
          "bar": [
           {
            "error_x": {
             "color": "#2a3f5f"
            },
            "error_y": {
             "color": "#2a3f5f"
            },
            "marker": {
             "line": {
              "color": "#E5ECF6",
              "width": 0.5
             },
             "pattern": {
              "fillmode": "overlay",
              "size": 10,
              "solidity": 0.2
             }
            },
            "type": "bar"
           }
          ],
          "barpolar": [
           {
            "marker": {
             "line": {
              "color": "#E5ECF6",
              "width": 0.5
             },
             "pattern": {
              "fillmode": "overlay",
              "size": 10,
              "solidity": 0.2
             }
            },
            "type": "barpolar"
           }
          ],
          "carpet": [
           {
            "aaxis": {
             "endlinecolor": "#2a3f5f",
             "gridcolor": "white",
             "linecolor": "white",
             "minorgridcolor": "white",
             "startlinecolor": "#2a3f5f"
            },
            "baxis": {
             "endlinecolor": "#2a3f5f",
             "gridcolor": "white",
             "linecolor": "white",
             "minorgridcolor": "white",
             "startlinecolor": "#2a3f5f"
            },
            "type": "carpet"
           }
          ],
          "choropleth": [
           {
            "colorbar": {
             "outlinewidth": 0,
             "ticks": ""
            },
            "type": "choropleth"
           }
          ],
          "contour": [
           {
            "colorbar": {
             "outlinewidth": 0,
             "ticks": ""
            },
            "colorscale": [
             [
              0,
              "#0d0887"
             ],
             [
              0.1111111111111111,
              "#46039f"
             ],
             [
              0.2222222222222222,
              "#7201a8"
             ],
             [
              0.3333333333333333,
              "#9c179e"
             ],
             [
              0.4444444444444444,
              "#bd3786"
             ],
             [
              0.5555555555555556,
              "#d8576b"
             ],
             [
              0.6666666666666666,
              "#ed7953"
             ],
             [
              0.7777777777777778,
              "#fb9f3a"
             ],
             [
              0.8888888888888888,
              "#fdca26"
             ],
             [
              1,
              "#f0f921"
             ]
            ],
            "type": "contour"
           }
          ],
          "contourcarpet": [
           {
            "colorbar": {
             "outlinewidth": 0,
             "ticks": ""
            },
            "type": "contourcarpet"
           }
          ],
          "heatmap": [
           {
            "colorbar": {
             "outlinewidth": 0,
             "ticks": ""
            },
            "colorscale": [
             [
              0,
              "#0d0887"
             ],
             [
              0.1111111111111111,
              "#46039f"
             ],
             [
              0.2222222222222222,
              "#7201a8"
             ],
             [
              0.3333333333333333,
              "#9c179e"
             ],
             [
              0.4444444444444444,
              "#bd3786"
             ],
             [
              0.5555555555555556,
              "#d8576b"
             ],
             [
              0.6666666666666666,
              "#ed7953"
             ],
             [
              0.7777777777777778,
              "#fb9f3a"
             ],
             [
              0.8888888888888888,
              "#fdca26"
             ],
             [
              1,
              "#f0f921"
             ]
            ],
            "type": "heatmap"
           }
          ],
          "heatmapgl": [
           {
            "colorbar": {
             "outlinewidth": 0,
             "ticks": ""
            },
            "colorscale": [
             [
              0,
              "#0d0887"
             ],
             [
              0.1111111111111111,
              "#46039f"
             ],
             [
              0.2222222222222222,
              "#7201a8"
             ],
             [
              0.3333333333333333,
              "#9c179e"
             ],
             [
              0.4444444444444444,
              "#bd3786"
             ],
             [
              0.5555555555555556,
              "#d8576b"
             ],
             [
              0.6666666666666666,
              "#ed7953"
             ],
             [
              0.7777777777777778,
              "#fb9f3a"
             ],
             [
              0.8888888888888888,
              "#fdca26"
             ],
             [
              1,
              "#f0f921"
             ]
            ],
            "type": "heatmapgl"
           }
          ],
          "histogram": [
           {
            "marker": {
             "pattern": {
              "fillmode": "overlay",
              "size": 10,
              "solidity": 0.2
             }
            },
            "type": "histogram"
           }
          ],
          "histogram2d": [
           {
            "colorbar": {
             "outlinewidth": 0,
             "ticks": ""
            },
            "colorscale": [
             [
              0,
              "#0d0887"
             ],
             [
              0.1111111111111111,
              "#46039f"
             ],
             [
              0.2222222222222222,
              "#7201a8"
             ],
             [
              0.3333333333333333,
              "#9c179e"
             ],
             [
              0.4444444444444444,
              "#bd3786"
             ],
             [
              0.5555555555555556,
              "#d8576b"
             ],
             [
              0.6666666666666666,
              "#ed7953"
             ],
             [
              0.7777777777777778,
              "#fb9f3a"
             ],
             [
              0.8888888888888888,
              "#fdca26"
             ],
             [
              1,
              "#f0f921"
             ]
            ],
            "type": "histogram2d"
           }
          ],
          "histogram2dcontour": [
           {
            "colorbar": {
             "outlinewidth": 0,
             "ticks": ""
            },
            "colorscale": [
             [
              0,
              "#0d0887"
             ],
             [
              0.1111111111111111,
              "#46039f"
             ],
             [
              0.2222222222222222,
              "#7201a8"
             ],
             [
              0.3333333333333333,
              "#9c179e"
             ],
             [
              0.4444444444444444,
              "#bd3786"
             ],
             [
              0.5555555555555556,
              "#d8576b"
             ],
             [
              0.6666666666666666,
              "#ed7953"
             ],
             [
              0.7777777777777778,
              "#fb9f3a"
             ],
             [
              0.8888888888888888,
              "#fdca26"
             ],
             [
              1,
              "#f0f921"
             ]
            ],
            "type": "histogram2dcontour"
           }
          ],
          "mesh3d": [
           {
            "colorbar": {
             "outlinewidth": 0,
             "ticks": ""
            },
            "type": "mesh3d"
           }
          ],
          "parcoords": [
           {
            "line": {
             "colorbar": {
              "outlinewidth": 0,
              "ticks": ""
             }
            },
            "type": "parcoords"
           }
          ],
          "pie": [
           {
            "automargin": true,
            "type": "pie"
           }
          ],
          "scatter": [
           {
            "fillpattern": {
             "fillmode": "overlay",
             "size": 10,
             "solidity": 0.2
            },
            "type": "scatter"
           }
          ],
          "scatter3d": [
           {
            "line": {
             "colorbar": {
              "outlinewidth": 0,
              "ticks": ""
             }
            },
            "marker": {
             "colorbar": {
              "outlinewidth": 0,
              "ticks": ""
             }
            },
            "type": "scatter3d"
           }
          ],
          "scattercarpet": [
           {
            "marker": {
             "colorbar": {
              "outlinewidth": 0,
              "ticks": ""
             }
            },
            "type": "scattercarpet"
           }
          ],
          "scattergeo": [
           {
            "marker": {
             "colorbar": {
              "outlinewidth": 0,
              "ticks": ""
             }
            },
            "type": "scattergeo"
           }
          ],
          "scattergl": [
           {
            "marker": {
             "colorbar": {
              "outlinewidth": 0,
              "ticks": ""
             }
            },
            "type": "scattergl"
           }
          ],
          "scattermapbox": [
           {
            "marker": {
             "colorbar": {
              "outlinewidth": 0,
              "ticks": ""
             }
            },
            "type": "scattermapbox"
           }
          ],
          "scatterpolar": [
           {
            "marker": {
             "colorbar": {
              "outlinewidth": 0,
              "ticks": ""
             }
            },
            "type": "scatterpolar"
           }
          ],
          "scatterpolargl": [
           {
            "marker": {
             "colorbar": {
              "outlinewidth": 0,
              "ticks": ""
             }
            },
            "type": "scatterpolargl"
           }
          ],
          "scatterternary": [
           {
            "marker": {
             "colorbar": {
              "outlinewidth": 0,
              "ticks": ""
             }
            },
            "type": "scatterternary"
           }
          ],
          "surface": [
           {
            "colorbar": {
             "outlinewidth": 0,
             "ticks": ""
            },
            "colorscale": [
             [
              0,
              "#0d0887"
             ],
             [
              0.1111111111111111,
              "#46039f"
             ],
             [
              0.2222222222222222,
              "#7201a8"
             ],
             [
              0.3333333333333333,
              "#9c179e"
             ],
             [
              0.4444444444444444,
              "#bd3786"
             ],
             [
              0.5555555555555556,
              "#d8576b"
             ],
             [
              0.6666666666666666,
              "#ed7953"
             ],
             [
              0.7777777777777778,
              "#fb9f3a"
             ],
             [
              0.8888888888888888,
              "#fdca26"
             ],
             [
              1,
              "#f0f921"
             ]
            ],
            "type": "surface"
           }
          ],
          "table": [
           {
            "cells": {
             "fill": {
              "color": "#EBF0F8"
             },
             "line": {
              "color": "white"
             }
            },
            "header": {
             "fill": {
              "color": "#C8D4E3"
             },
             "line": {
              "color": "white"
             }
            },
            "type": "table"
           }
          ]
         },
         "layout": {
          "annotationdefaults": {
           "arrowcolor": "#2a3f5f",
           "arrowhead": 0,
           "arrowwidth": 1
          },
          "autotypenumbers": "strict",
          "coloraxis": {
           "colorbar": {
            "outlinewidth": 0,
            "ticks": ""
           }
          },
          "colorscale": {
           "diverging": [
            [
             0,
             "#8e0152"
            ],
            [
             0.1,
             "#c51b7d"
            ],
            [
             0.2,
             "#de77ae"
            ],
            [
             0.3,
             "#f1b6da"
            ],
            [
             0.4,
             "#fde0ef"
            ],
            [
             0.5,
             "#f7f7f7"
            ],
            [
             0.6,
             "#e6f5d0"
            ],
            [
             0.7,
             "#b8e186"
            ],
            [
             0.8,
             "#7fbc41"
            ],
            [
             0.9,
             "#4d9221"
            ],
            [
             1,
             "#276419"
            ]
           ],
           "sequential": [
            [
             0,
             "#0d0887"
            ],
            [
             0.1111111111111111,
             "#46039f"
            ],
            [
             0.2222222222222222,
             "#7201a8"
            ],
            [
             0.3333333333333333,
             "#9c179e"
            ],
            [
             0.4444444444444444,
             "#bd3786"
            ],
            [
             0.5555555555555556,
             "#d8576b"
            ],
            [
             0.6666666666666666,
             "#ed7953"
            ],
            [
             0.7777777777777778,
             "#fb9f3a"
            ],
            [
             0.8888888888888888,
             "#fdca26"
            ],
            [
             1,
             "#f0f921"
            ]
           ],
           "sequentialminus": [
            [
             0,
             "#0d0887"
            ],
            [
             0.1111111111111111,
             "#46039f"
            ],
            [
             0.2222222222222222,
             "#7201a8"
            ],
            [
             0.3333333333333333,
             "#9c179e"
            ],
            [
             0.4444444444444444,
             "#bd3786"
            ],
            [
             0.5555555555555556,
             "#d8576b"
            ],
            [
             0.6666666666666666,
             "#ed7953"
            ],
            [
             0.7777777777777778,
             "#fb9f3a"
            ],
            [
             0.8888888888888888,
             "#fdca26"
            ],
            [
             1,
             "#f0f921"
            ]
           ]
          },
          "colorway": [
           "#636efa",
           "#EF553B",
           "#00cc96",
           "#ab63fa",
           "#FFA15A",
           "#19d3f3",
           "#FF6692",
           "#B6E880",
           "#FF97FF",
           "#FECB52"
          ],
          "font": {
           "color": "#2a3f5f"
          },
          "geo": {
           "bgcolor": "white",
           "lakecolor": "white",
           "landcolor": "#E5ECF6",
           "showlakes": true,
           "showland": true,
           "subunitcolor": "white"
          },
          "hoverlabel": {
           "align": "left"
          },
          "hovermode": "closest",
          "mapbox": {
           "style": "light"
          },
          "paper_bgcolor": "white",
          "plot_bgcolor": "#E5ECF6",
          "polar": {
           "angularaxis": {
            "gridcolor": "white",
            "linecolor": "white",
            "ticks": ""
           },
           "bgcolor": "#E5ECF6",
           "radialaxis": {
            "gridcolor": "white",
            "linecolor": "white",
            "ticks": ""
           }
          },
          "scene": {
           "xaxis": {
            "backgroundcolor": "#E5ECF6",
            "gridcolor": "white",
            "gridwidth": 2,
            "linecolor": "white",
            "showbackground": true,
            "ticks": "",
            "zerolinecolor": "white"
           },
           "yaxis": {
            "backgroundcolor": "#E5ECF6",
            "gridcolor": "white",
            "gridwidth": 2,
            "linecolor": "white",
            "showbackground": true,
            "ticks": "",
            "zerolinecolor": "white"
           },
           "zaxis": {
            "backgroundcolor": "#E5ECF6",
            "gridcolor": "white",
            "gridwidth": 2,
            "linecolor": "white",
            "showbackground": true,
            "ticks": "",
            "zerolinecolor": "white"
           }
          },
          "shapedefaults": {
           "line": {
            "color": "#2a3f5f"
           }
          },
          "ternary": {
           "aaxis": {
            "gridcolor": "white",
            "linecolor": "white",
            "ticks": ""
           },
           "baxis": {
            "gridcolor": "white",
            "linecolor": "white",
            "ticks": ""
           },
           "bgcolor": "#E5ECF6",
           "caxis": {
            "gridcolor": "white",
            "linecolor": "white",
            "ticks": ""
           }
          },
          "title": {
           "x": 0.05
          },
          "xaxis": {
           "automargin": true,
           "gridcolor": "white",
           "linecolor": "white",
           "ticks": "",
           "title": {
            "standoff": 15
           },
           "zerolinecolor": "white",
           "zerolinewidth": 2
          },
          "yaxis": {
           "automargin": true,
           "gridcolor": "white",
           "linecolor": "white",
           "ticks": "",
           "title": {
            "standoff": 15
           },
           "zerolinecolor": "white",
           "zerolinewidth": 2
          }
         }
        },
        "ternary": {
         "aaxis": {
          "layer": "below traces",
          "showgrid": true,
          "showticklabels": true,
          "tickfont": {
           "color": "rgba(0, 0, 0, 0)",
           "size": 7
          },
          "title": {
           "font": {
            "size": 24
           },
           "text": "Mg"
          }
         },
         "baxis": {
          "layer": "below traces",
          "min": 0,
          "showgrid": true,
          "showticklabels": true,
          "tickfont": {
           "color": "rgba(0, 0, 0, 0)",
           "size": 7
          },
          "title": {
           "font": {
            "size": 24
           },
           "text": "Al"
          }
         },
         "caxis": {
          "layer": "below traces",
          "min": 0,
          "showgrid": true,
          "showticklabels": true,
          "tickfont": {
           "color": "rgba(0, 0, 0, 0)",
           "size": 7
          },
          "title": {
           "font": {
            "size": 24
           },
           "text": "Fe"
          }
         },
         "sum": 1
        }
       }
      },
      "image/png": "[encoded data removed]",
      "text/html": [
       "<div>                            <div id=\"e6df193b-e85b-4ddb-82ec-66f3dcfcaefb\" class=\"plotly-graph-div\" style=\"height:525px; width:100%;\"></div>            <script type=\"text/javascript\">                require([\"plotly\"], function(Plotly) {                    window.PLOTLYENV=window.PLOTLYENV || {};                                    if (document.getElementById(\"e6df193b-e85b-4ddb-82ec-66f3dcfcaefb\")) {                    Plotly.newPlot(                        \"e6df193b-e85b-4ddb-82ec-66f3dcfcaefb\",                        [{\"a\":[149.0,1.0,null,4.0,0,null,17.0,149.0,null,0,0,null,149.0,0,null,149.0,0,null,0,0,null,0,0,null,0,149.0,null,0,17.0,null,149.0,1.0,null,0,149.0,null,0,4.0,null,149.0,149.0,null,4.0,17.0,null,0,149.0,null,0,0,null],\"b\":[1.0,0,null,8.0,1.0,null,12.0,1.0,null,1.0,39.0,null,0,0,null,1.0,0,null,1.0,0,null,1.0,1.0,null,39.0,1.0,null,39.0,12.0,null,0,0,null,1.0,1.0,null,39.0,8.0,null,0,1.0,null,8.0,12.0,null,1.0,1.0,null,39.0,1.0,null],\"c\":[0,0,null,0,0,null,0,0,null,1.0,12.0,null,1.0,1.0,null,0,1.0,null,3.0,1.0,null,1.0,3.0,null,12.0,0,null,12.0,0,null,1.0,0,null,1.0,0,null,12.0,0,null,1.0,0,null,0,0,null,3.0,0,null,12.0,0,null],\"hoverinfo\":\"none\",\"line\":{\"color\":\"black\",\"width\":1.5},\"mode\":\"lines\",\"showlegend\":false,\"type\":\"scatterternary\"},{\"a\":[0,0,4.0],\"b\":[1.0,39.0,8.0],\"c\":[0,12.0,0],\"fill\":\"toself\",\"fillcolor\":\"#2E91E5\",\"hovertemplate\":\"<extra></extra>\",\"line\":{\"width\":0},\"mode\":\"lines\",\"name\":\"Al\\u2014Al<sub>13</sub>Fe<sub>4</sub>\\u2014MgAl<sub>2</sub>\",\"opacity\":0.15,\"showlegend\":false,\"type\":\"scatterternary\"},{\"a\":[0,17.0,4.0],\"b\":[39.0,12.0,8.0],\"c\":[12.0,0,0],\"fill\":\"toself\",\"fillcolor\":\"#E15F99\",\"hovertemplate\":\"<extra></extra>\",\"line\":{\"width\":0},\"mode\":\"lines\",\"name\":\"Al<sub>13</sub>Fe<sub>4</sub>\\u2014Mg<sub>17</sub>Al<sub>12</sub>\\u2014MgAl<sub>2</sub>\",\"opacity\":0.15,\"showlegend\":false,\"type\":\"scatterternary\"},{\"a\":[0,149.0,17.0],\"b\":[39.0,1.0,12.0],\"c\":[12.0,0,0],\"fill\":\"toself\",\"fillcolor\":\"#1CA71C\",\"hovertemplate\":\"<extra></extra>\",\"line\":{\"width\":0},\"mode\":\"lines\",\"name\":\"Al<sub>13</sub>Fe<sub>4</sub>\\u2014Mg<sub>149</sub>Al\\u2014Mg<sub>17</sub>Al<sub>12</sub>\",\"opacity\":0.15,\"showlegend\":false,\"type\":\"scatterternary\"},{\"a\":[0,0,149.0],\"b\":[39.0,1.0,1.0],\"c\":[12.0,1.0,0],\"fill\":\"toself\",\"fillcolor\":\"#FB0D0D\",\"hovertemplate\":\"<extra></extra>\",\"line\":{\"width\":0},\"mode\":\"lines\",\"name\":\"Al<sub>13</sub>Fe<sub>4</sub>\\u2014AlFe\\u2014Mg<sub>149</sub>Al\",\"opacity\":0.15,\"showlegend\":false,\"type\":\"scatterternary\"},{\"a\":[1.0,149.0,149.0],\"b\":[0,1.0,0],\"c\":[0,0,1.0],\"fill\":\"toself\",\"fillcolor\":\"#DA16FF\",\"hovertemplate\":\"<extra></extra>\",\"line\":{\"width\":0},\"mode\":\"lines\",\"name\":\"Mg\\u2014Mg<sub>149</sub>Al\\u2014Mg<sub>149</sub>Fe\",\"opacity\":0.15,\"showlegend\":false,\"type\":\"scatterternary\"},{\"a\":[0,0,149.0],\"b\":[1.0,1.0,1.0],\"c\":[1.0,3.0,0],\"fill\":\"toself\",\"fillcolor\":\"#222A2A\",\"hovertemplate\":\"<extra></extra>\",\"line\":{\"width\":0},\"mode\":\"lines\",\"name\":\"AlFe\\u2014AlFe<sub>3</sub>\\u2014Mg<sub>149</sub>Al\",\"opacity\":0.15,\"showlegend\":false,\"type\":\"scatterternary\"},{\"a\":[0,0,149.0],\"b\":[1.0,0,1.0],\"c\":[3.0,1.0,0],\"fill\":\"toself\",\"fillcolor\":\"#B68100\",\"hovertemplate\":\"<extra></extra>\",\"line\":{\"width\":0},\"mode\":\"lines\",\"name\":\"AlFe<sub>3</sub>\\u2014Fe\\u2014Mg<sub>149</sub>Al\",\"opacity\":0.15,\"showlegend\":false,\"type\":\"scatterternary\"},{\"a\":[0,149.0,149.0],\"b\":[0,1.0,0],\"c\":[1.0,0,1.0],\"fill\":\"toself\",\"fillcolor\":\"#750D86\",\"hovertemplate\":\"<extra></extra>\",\"line\":{\"width\":0},\"mode\":\"lines\",\"name\":\"Fe\\u2014Mg<sub>149</sub>Al\\u2014Mg<sub>149</sub>Fe\",\"opacity\":0.15,\"showlegend\":false,\"type\":\"scatterternary\"},{\"a\":[149.0,1.0,4.0,0,17.0,0,0,149.0,0,0],\"b\":[1.0,0,8.0,1.0,12.0,1.0,39.0,0,0,1.0],\"c\":[0,0,0,0,0,1.0,12.0,1.0,1.0,3.0],\"cliponaxis\":false,\"hoverinfo\":\"text\",\"hoverlabel\":{\"font\":{\"size\":14}},\"hovertext\":[\"Mg<sub>149</sub>Al (mp-1185596-GGA) <br> disorder = True <br> entropy = 0.041 k_B/atom (0.00107 eV/atom at 300K)  <br> -0.027 eV/atom (Stable)\",\"Mg (mp-1056702-GGA) <br> disorder = False <br> entropy = 0.0 k_B/atom (0.0 eV/atom at 300K)  <br> 0.0 eV/atom (Stable)\",\"MgAl<sub>2</sub> (mp-1094116-GGA) <br> disorder = False <br> entropy = 0.0 k_B/atom (0.0 eV/atom at 300K)  <br> -0.022 eV/atom (Stable)\",\"Al (mp-134-GGA) <br> disorder = False <br> entropy = 0.0 k_B/atom (0.0 eV/atom at 300K)  <br> 0.0 eV/atom (Stable)\",\"Mg<sub>17</sub>Al<sub>12</sub> (mp-2151-GGA) <br> disorder = False <br> entropy = 0.0 k_B/atom (0.0 eV/atom at 300K)  <br> -0.027 eV/atom (Stable)\",\"AlFe (mp-2658-GGA) <br> disorder = False <br> entropy = 0.0 k_B/atom (0.0 eV/atom at 300K)  <br> -0.327 eV/atom (Stable)\",\"Al<sub>13</sub>Fe<sub>4</sub> (mp-1202900-GGA) <br> disorder = True <br> entropy = 0.021 k_B/atom (0.00055 eV/atom at 300K)  <br> -0.327 eV/atom (Stable)\",\"Mg<sub>149</sub>Fe (mp-1185592-GGA) <br> disorder = True <br> entropy = 0.037 k_B/atom (0.00096 eV/atom at 300K)  <br> -0.014 eV/atom (Stable)\",\"Fe (mp-13-GGA) <br> disorder = False <br> entropy = 0.0 k_B/atom (0.0 eV/atom at 300K)  <br> 0.0 eV/atom (Stable)\",\"AlFe<sub>3</sub> (mp-1183162-GGA) <br> disorder = True <br> entropy = 0.566 k_B/atom (0.01472 eV/atom at 300K)  <br> -0.199 eV/atom (Stable)\"],\"marker\":{\"color\":\"green\",\"line\":{\"color\":\"black\",\"width\":2.0},\"size\":15,\"symbol\":\"circle\"},\"mode\":\"markers\",\"name\":\"Stable\",\"showlegend\":true,\"type\":\"scatterternary\"},{\"a\":[0,0,0,0,0,0,0,0,0,0,0,0,0,0,0,0,0,0,0,0,0,0,0,0,1.0,1.0,3.0,10.0,2.0,4.0,1.0,1.0,2.0,1.0,1.0,4.0,1.0,1.0,2.0,1.0,4.0,8.0,3.0,6.0,3.0,3.0,3.0,7.0,7.0,13.0,13.0,14.0,14.0,15.0,15.0,16.0,16.0,16.0,16.0,18.0,23.0,41.0],\"b\":[0,0,0,0,0,0,100.0,100.0,4.0,2.0,100.0,100.0,100.0,1.0,1.0,2.0,1.0,1.0,1.0,6.0,12.0,16.0,18.0,12.0,0,0,0,0,0,0,1.0,1.0,2.0,1.0,1.0,8.0,2.0,3.0,6.0,3.0,0,12.0,1.0,2.0,1.0,1.0,1.0,0,1.0,14.0,16.0,1.0,1.0,0,1.0,12.0,13.0,13.0,13.0,11.0,30.0,67.0],\"c\":[28.0,1.0,4.0,4.0,2.0,2.0,0,0,0,0,0,0,0,0,2.0,4.0,3.0,3.0,4.0,2.0,2.0,10.0,4.0,7.0,0,0,0,0,0,0,0,0,0,0,0,0,0,0,0,0,2.0,0,0,0,0,0,0,1.0,0,0,0,1.0,1.0,1.0,0,1.0,0,0,0,0,0,0],\"cliponaxis\":false,\"hoverinfo\":\"text\",\"hoverlabel\":{\"font\":{\"size\":14}},\"hovertext\":[\"Fe (mp-1194030-GGA) <br> disorder = False <br> entropy = 0.0 k_B/atom (0.0 eV/atom at 300K)  <br> 0.175 eV/atom (+0.175 eV/atom)\",\"Fe (mp-150-GGA) <br> disorder = False <br> entropy = 0.0 k_B/atom (0.0 eV/atom at 300K)  <br> 0.148 eV/atom (+0.148 eV/atom)\",\"Fe (mp-1271198-GGA) <br> disorder = False <br> entropy = 0.0 k_B/atom (0.0 eV/atom at 300K)  <br> 0.055 eV/atom (+0.055 eV/atom)\",\"Fe (mp-1271068-GGA) <br> disorder = False <br> entropy = 0.0 k_B/atom (0.0 eV/atom at 300K)  <br> 0.017 eV/atom (+0.017 eV/atom)\",\"Fe (mp-1271128-GGA) <br> disorder = False <br> entropy = 0.0 k_B/atom (0.0 eV/atom at 300K)  <br> 0.099 eV/atom (+0.099 eV/atom)\",\"Fe (mp-136-GGA) <br> disorder = False <br> entropy = 0.0 k_B/atom (0.0 eV/atom at 300K)  <br> 0.098 eV/atom (+0.098 eV/atom)\",\"Al (mp-1245129-GGA) <br> disorder = False <br> entropy = 0.0 k_B/atom (0.0 eV/atom at 300K)  <br> 0.095 eV/atom (+0.095 eV/atom)\",\"Al (mp-1245152-GGA) <br> disorder = False <br> entropy = 0.0 k_B/atom (0.0 eV/atom at 300K)  <br> 0.102 eV/atom (+0.102 eV/atom)\",\"Al (mp-1183144-GGA) <br> disorder = False <br> entropy = 0.0 k_B/atom (0.0 eV/atom at 300K)  <br> 0.011 eV/atom (+0.011 eV/atom)\",\"Al (mp-2647008-GGA) <br> disorder = False <br> entropy = 0.0 k_B/atom (0.0 eV/atom at 300K)  <br> 0.032 eV/atom (+0.032 eV/atom)\",\"Al (mp-1245307-GGA) <br> disorder = False <br> entropy = 0.0 k_B/atom (0.0 eV/atom at 300K)  <br> 0.108 eV/atom (+0.108 eV/atom)\",\"Al (mp-1244953-GGA) <br> disorder = False <br> entropy = 0.0 k_B/atom (0.0 eV/atom at 300K)  <br> 0.096 eV/atom (+0.096 eV/atom)\",\"Al (mp-1245067-GGA) <br> disorder = False <br> entropy = 0.0 k_B/atom (0.0 eV/atom at 300K)  <br> 0.114 eV/atom (+0.114 eV/atom)\",\"Al (mp-998860-GGA) <br> disorder = False <br> entropy = 0.0 k_B/atom (0.0 eV/atom at 300K)  <br> 0.092 eV/atom (+0.092 eV/atom)\",\"AlFe<sub>2</sub> (mp-985579-GGA) <br> disorder = False <br> entropy = 0.0 k_B/atom (0.0 eV/atom at 300K)  <br> -0.141 eV/atom (+0.1 eV/atom)\",\"AlFe<sub>2</sub> (mp-31184-GGA) <br> disorder = False <br> entropy = 0.0 k_B/atom (0.0 eV/atom at 300K)  <br> -0.105 eV/atom (+0.137 eV/atom)\",\"AlFe<sub>3</sub> (mp-2018-GGA) <br> disorder = True <br> entropy = 0.566 k_B/atom (0.01472 eV/atom at 300K)  <br> -0.197 eV/atom (+0.002 eV/atom)\",\"AlFe<sub>3</sub> (mp-1228919-GGA) <br> disorder = True <br> entropy = 0.566 k_B/atom (0.01472 eV/atom at 300K)  <br> -0.086 eV/atom (+0.113 eV/atom)\",\"AlFe<sub>4</sub> (mp-1228952-GGA) <br> disorder = True <br> entropy = 0.502 k_B/atom (0.01305 eV/atom at 300K)  <br> -0.063 eV/atom (+0.096 eV/atom)\",\"Al<sub>3</sub>Fe (mp-984873-GGA) <br> disorder = True <br> entropy = 0.021 k_B/atom (0.00055 eV/atom at 300K)  <br> -0.154 eV/atom (+0.173 eV/atom)\",\"Al<sub>6</sub>Fe (mp-570001-GGA) <br> disorder = False <br> entropy = 0.0 k_B/atom (0.0 eV/atom at 300K)  <br> -0.196 eV/atom (+0.003 eV/atom)\",\"Al<sub>8</sub>Fe<sub>5</sub> (mp-1193259-GGA) <br> disorder = True <br> entropy = 0.117 k_B/atom (0.00304 eV/atom at 300K)  <br> -0.28 eV/atom (+0.046 eV/atom)\",\"Al<sub>9</sub>Fe<sub>2</sub> (mp-1191778-GGA) <br> disorder = False <br> entropy = 0.0 k_B/atom (0.0 eV/atom at 300K)  <br> -0.235 eV/atom (+0.018 eV/atom)\",\"Al<sub>12</sub>Fe<sub>7</sub> (mp-1214901-GGA) <br> disorder = True <br> entropy = 0.166 k_B/atom (0.00432 eV/atom at 300K)  <br> -0.313 eV/atom (+0.014 eV/atom)\",\"Mg (mp-110-GGA) <br> disorder = False <br> entropy = 0.0 k_B/atom (0.0 eV/atom at 300K)  <br> 0.026 eV/atom (+0.026 eV/atom)\",\"Mg (mp-1056351-GGA) <br> disorder = False <br> entropy = 0.0 k_B/atom (0.0 eV/atom at 300K)  <br> 0.029 eV/atom (+0.029 eV/atom)\",\"Mg (mp-1094122-GGA) <br> disorder = False <br> entropy = 0.0 k_B/atom (0.0 eV/atom at 300K)  <br> 0.003 eV/atom (+0.003 eV/atom)\",\"Mg (mp-1247180-GGA) <br> disorder = False <br> entropy = 0.0 k_B/atom (0.0 eV/atom at 300K)  <br> 0.177 eV/atom (+0.177 eV/atom)\",\"Mg (mp-153-GGA) <br> disorder = False <br> entropy = 0.0 k_B/atom (0.0 eV/atom at 300K)  <br> 0.009 eV/atom (+0.009 eV/atom)\",\"Mg (mp-973364-GGA) <br> disorder = False <br> entropy = 0.0 k_B/atom (0.0 eV/atom at 300K)  <br> 0.013 eV/atom (+0.013 eV/atom)\",\"MgAl (mp-1039141-GGA) <br> disorder = False <br> entropy = 0.0 k_B/atom (0.0 eV/atom at 300K)  <br> -0.001 eV/atom (+0.025 eV/atom)\",\"MgAl (mp-1038934-GGA) <br> disorder = False <br> entropy = 0.0 k_B/atom (0.0 eV/atom at 300K)  <br> 0.065 eV/atom (+0.09 eV/atom)\",\"MgAl (mp-1094987-GGA) <br> disorder = False <br> entropy = 0.0 k_B/atom (0.0 eV/atom at 300K)  <br> 0.029 eV/atom (+0.055 eV/atom)\",\"MgAl (mp-1039019-GGA) <br> disorder = False <br> entropy = 0.0 k_B/atom (0.0 eV/atom at 300K)  <br> 0.038 eV/atom (+0.064 eV/atom)\",\"MgAl (mp-1038779-GGA) <br> disorder = False <br> entropy = 0.0 k_B/atom (0.0 eV/atom at 300K)  <br> 0.05 eV/atom (+0.075 eV/atom)\",\"MgAl<sub>2</sub> (mp-1102064-GGA) <br> disorder = False <br> entropy = 0.0 k_B/atom (0.0 eV/atom at 300K)  <br> 0.02 eV/atom (+0.042 eV/atom)\",\"MgAl<sub>2</sub> (mp-1222013-GGA) <br> disorder = False <br> entropy = 0.0 k_B/atom (0.0 eV/atom at 300K)  <br> 0.044 eV/atom (+0.066 eV/atom)\",\"MgAl<sub>3</sub> (mp-1039180-GGA) <br> disorder = False <br> entropy = 0.0 k_B/atom (0.0 eV/atom at 300K)  <br> 0.085 eV/atom (+0.102 eV/atom)\",\"MgAl<sub>3</sub> (mp-1039119-GGA) <br> disorder = False <br> entropy = 0.0 k_B/atom (0.0 eV/atom at 300K)  <br> 0.018 eV/atom (+0.034 eV/atom)\",\"MgAl<sub>3</sub> (mp-1038916-GGA) <br> disorder = False <br> entropy = 0.0 k_B/atom (0.0 eV/atom at 300K)  <br> 0.009 eV/atom (+0.025 eV/atom)\",\"Mg<sub>2</sub>Fe (mp-1094145-GGA) <br> disorder = False <br> entropy = 0.0 k_B/atom (0.0 eV/atom at 300K)  <br> 0.147 eV/atom (+0.157 eV/atom)\",\"Mg<sub>2</sub>Al<sub>3</sub> (mp-1210739-GGA) <br> disorder = True <br> entropy = 0.195 k_B/atom (0.00507 eV/atom at 300K)  <br> 0.094 eV/atom (+0.117 eV/atom)\",\"Mg<sub>3</sub>Al (mp-1016233-GGA) <br> disorder = True <br> entropy = 0.524 k_B/atom (0.01362 eV/atom at 300K)  <br> 0.028 eV/atom (+0.055 eV/atom)\",\"Mg<sub>3</sub>Al (mp-1094970-GGA) <br> disorder = True <br> entropy = 0.524 k_B/atom (0.01362 eV/atom at 300K)  <br> 0.007 eV/atom (+0.034 eV/atom)\",\"Mg<sub>3</sub>Al (mp-978271-GGA) <br> disorder = True <br> entropy = 0.524 k_B/atom (0.01362 eV/atom at 300K)  <br> -0.001 eV/atom (+0.026 eV/atom)\",\"Mg<sub>3</sub>Al (mp-1094961-GGA) <br> disorder = True <br> entropy = 0.524 k_B/atom (0.01362 eV/atom at 300K)  <br> 0.017 eV/atom (+0.044 eV/atom)\",\"Mg<sub>3</sub>Al (mp-1094666-GGA) <br> disorder = True <br> entropy = 0.524 k_B/atom (0.01362 eV/atom at 300K)  <br> 0.048 eV/atom (+0.075 eV/atom)\",\"Mg<sub>7</sub>Fe (mp-1016317-GGA) <br> disorder = True <br> entropy = 0.12 k_B/atom (0.00312 eV/atom at 300K)  <br> 0.147 eV/atom (+0.16 eV/atom)\",\"Mg<sub>7</sub>Al (mp-1016271-GGA) <br> disorder = False <br> entropy = 0.0 k_B/atom (0.0 eV/atom at 300K)  <br> 0.015 eV/atom (+0.042 eV/atom)\",\"Mg<sub>13</sub>Al<sub>14</sub> (mp-12766-GGA) <br> disorder = False <br> entropy = 0.0 k_B/atom (0.0 eV/atom at 300K)  <br> 0.064 eV/atom (+0.089 eV/atom)\",\"Mg<sub>13</sub>Al<sub>16</sub> (mp-1194114-GGA) <br> disorder = False <br> entropy = 0.0 k_B/atom (0.0 eV/atom at 300K)  <br> 0.02 eV/atom (+0.044 eV/atom)\",\"Mg<sub>14</sub>AlFe (mp-1028207-GGA) <br> disorder = True <br> entropy = 0.189 k_B/atom (0.00491 eV/atom at 300K)  <br> 0.107 eV/atom (+0.168 eV/atom)\",\"Mg<sub>14</sub>AlFe (mp-1028219-GGA) <br> disorder = True <br> entropy = 0.189 k_B/atom (0.00491 eV/atom at 300K)  <br> 0.11 eV/atom (+0.172 eV/atom)\",\"Mg<sub>15</sub>Fe (mp-1023632-GGA) <br> disorder = True <br> entropy = 0.229 k_B/atom (0.00595 eV/atom at 300K)  <br> 0.079 eV/atom (+0.093 eV/atom)\",\"Mg<sub>15</sub>Al (mp-1023506-GGA) <br> disorder = True <br> entropy = 0.23 k_B/atom (0.00598 eV/atom at 300K)  <br> 0.011 eV/atom (+0.039 eV/atom)\",\"Mg<sub>16</sub>Al<sub>12</sub>Fe (mp-1185661-GGA) <br> disorder = True <br> entropy = 0.137 k_B/atom (0.00356 eV/atom at 300K)  <br> 0.009 eV/atom (+0.079 eV/atom)\",\"Mg<sub>16</sub>Al<sub>13</sub> (mp-1094683-GGA) <br> disorder = False <br> entropy = 0.0 k_B/atom (0.0 eV/atom at 300K)  <br> -0.016 eV/atom (+0.01 eV/atom)\",\"Mg<sub>16</sub>Al<sub>13</sub> (mp-1094685-GGA) <br> disorder = False <br> entropy = 0.0 k_B/atom (0.0 eV/atom at 300K)  <br> -0.022 eV/atom (+0.004 eV/atom)\",\"Mg<sub>16</sub>Al<sub>13</sub> (mp-1094692-GGA) <br> disorder = False <br> entropy = 0.0 k_B/atom (0.0 eV/atom at 300K)  <br> -0.019 eV/atom (+0.008 eV/atom)\",\"Mg<sub>18</sub>Al<sub>11</sub> (mp-1094700-GGA) <br> disorder = True <br> entropy = 0.15 k_B/atom (0.0039 eV/atom at 300K)  <br> -0.015 eV/atom (+0.012 eV/atom)\",\"Mg<sub>23</sub>Al<sub>30</sub> (mp-17659-GGA) <br> disorder = False <br> entropy = 0.0 k_B/atom (0.0 eV/atom at 300K)  <br> -0.023 eV/atom (+0.001 eV/atom)\",\"Mg<sub>41</sub>Al<sub>67</sub> (mp-568106-GGA) <br> disorder = True <br> entropy = 0.214 k_B/atom (0.00556 eV/atom at 300K)  <br> 0.029 eV/atom (+0.052 eV/atom)\"],\"marker\":{\"color\":[0.175,0.148,0.055,0.017,0.099,0.098,0.095,0.102,0.011,0.032,0.108,0.096,0.114,0.092,0.1,0.137,0.002,0.113,0.096,0.173,0.003,0.046,0.018,0.014,0.026,0.029,0.003,0.177,0.009,0.013,0.025,0.09,0.055,0.064,0.075,0.042,0.066,0.102,0.034,0.025,0.157,0.117,0.055,0.034,0.026,0.044,0.075,0.16,0.042,0.089,0.044,0.168,0.172,0.093,0.039,0.079,0.01,0.004,0.008,0.012,0.001,0.052],\"colorbar\":{\"len\":0.5,\"thickness\":0.02,\"thicknessmode\":\"fraction\",\"title\":{\"text\":\"Energy Above Hull<br>(eV/atom)\"},\"x\":0,\"xpad\":0,\"y\":1,\"yanchor\":\"top\",\"ypad\":0},\"colorscale\":[[0.0,\"#fff5e3\"],[0.5,\"#f24324\"],[1.0,\"#c40000\"]],\"line\":{\"color\":\"black\",\"width\":1},\"opacity\":0.8,\"size\":7,\"symbol\":\"diamond\"},\"mode\":\"markers\",\"name\":\"Above Hull\",\"showlegend\":true,\"type\":\"scatterternary\"}],                        {\"autosize\":true,\"margin\":{\"b\":40,\"l\":20,\"r\":20,\"t\":40},\"paper_bgcolor\":\"rgba(0,0,0,0)\",\"plot_bgcolor\":\"rgba(0,0,0,0)\",\"showlegend\":true,\"ternary\":{\"aaxis\":{\"layer\":\"below traces\",\"showgrid\":true,\"showticklabels\":true,\"tickfont\":{\"color\":\"rgba(0,0,0,0)\",\"size\":7},\"title\":{\"font\":{\"size\":24},\"text\":\"Mg\"}},\"baxis\":{\"layer\":\"below traces\",\"min\":0,\"showgrid\":true,\"showticklabels\":true,\"tickfont\":{\"color\":\"rgba(0,0,0,0)\",\"size\":7},\"title\":{\"font\":{\"size\":24},\"text\":\"Al\"}},\"caxis\":{\"layer\":\"below traces\",\"min\":0,\"showgrid\":true,\"showticklabels\":true,\"tickfont\":{\"color\":\"rgba(0,0,0,0)\",\"size\":7},\"title\":{\"font\":{\"size\":24},\"text\":\"Fe\"}},\"sum\":1},\"template\":{\"data\":{\"histogram2dcontour\":[{\"type\":\"histogram2dcontour\",\"colorbar\":{\"outlinewidth\":0,\"ticks\":\"\"},\"colorscale\":[[0.0,\"#0d0887\"],[0.1111111111111111,\"#46039f\"],[0.2222222222222222,\"#7201a8\"],[0.3333333333333333,\"#9c179e\"],[0.4444444444444444,\"#bd3786\"],[0.5555555555555556,\"#d8576b\"],[0.6666666666666666,\"#ed7953\"],[0.7777777777777778,\"#fb9f3a\"],[0.8888888888888888,\"#fdca26\"],[1.0,\"#f0f921\"]]}],\"choropleth\":[{\"type\":\"choropleth\",\"colorbar\":{\"outlinewidth\":0,\"ticks\":\"\"}}],\"histogram2d\":[{\"type\":\"histogram2d\",\"colorbar\":{\"outlinewidth\":0,\"ticks\":\"\"},\"colorscale\":[[0.0,\"#0d0887\"],[0.1111111111111111,\"#46039f\"],[0.2222222222222222,\"#7201a8\"],[0.3333333333333333,\"#9c179e\"],[0.4444444444444444,\"#bd3786\"],[0.5555555555555556,\"#d8576b\"],[0.6666666666666666,\"#ed7953\"],[0.7777777777777778,\"#fb9f3a\"],[0.8888888888888888,\"#fdca26\"],[1.0,\"#f0f921\"]]}],\"heatmap\":[{\"type\":\"heatmap\",\"colorbar\":{\"outlinewidth\":0,\"ticks\":\"\"},\"colorscale\":[[0.0,\"#0d0887\"],[0.1111111111111111,\"#46039f\"],[0.2222222222222222,\"#7201a8\"],[0.3333333333333333,\"#9c179e\"],[0.4444444444444444,\"#bd3786\"],[0.5555555555555556,\"#d8576b\"],[0.6666666666666666,\"#ed7953\"],[0.7777777777777778,\"#fb9f3a\"],[0.8888888888888888,\"#fdca26\"],[1.0,\"#f0f921\"]]}],\"heatmapgl\":[{\"type\":\"heatmapgl\",\"colorbar\":{\"outlinewidth\":0,\"ticks\":\"\"},\"colorscale\":[[0.0,\"#0d0887\"],[0.1111111111111111,\"#46039f\"],[0.2222222222222222,\"#7201a8\"],[0.3333333333333333,\"#9c179e\"],[0.4444444444444444,\"#bd3786\"],[0.5555555555555556,\"#d8576b\"],[0.6666666666666666,\"#ed7953\"],[0.7777777777777778,\"#fb9f3a\"],[0.8888888888888888,\"#fdca26\"],[1.0,\"#f0f921\"]]}],\"contourcarpet\":[{\"type\":\"contourcarpet\",\"colorbar\":{\"outlinewidth\":0,\"ticks\":\"\"}}],\"contour\":[{\"type\":\"contour\",\"colorbar\":{\"outlinewidth\":0,\"ticks\":\"\"},\"colorscale\":[[0.0,\"#0d0887\"],[0.1111111111111111,\"#46039f\"],[0.2222222222222222,\"#7201a8\"],[0.3333333333333333,\"#9c179e\"],[0.4444444444444444,\"#bd3786\"],[0.5555555555555556,\"#d8576b\"],[0.6666666666666666,\"#ed7953\"],[0.7777777777777778,\"#fb9f3a\"],[0.8888888888888888,\"#fdca26\"],[1.0,\"#f0f921\"]]}],\"surface\":[{\"type\":\"surface\",\"colorbar\":{\"outlinewidth\":0,\"ticks\":\"\"},\"colorscale\":[[0.0,\"#0d0887\"],[0.1111111111111111,\"#46039f\"],[0.2222222222222222,\"#7201a8\"],[0.3333333333333333,\"#9c179e\"],[0.4444444444444444,\"#bd3786\"],[0.5555555555555556,\"#d8576b\"],[0.6666666666666666,\"#ed7953\"],[0.7777777777777778,\"#fb9f3a\"],[0.8888888888888888,\"#fdca26\"],[1.0,\"#f0f921\"]]}],\"mesh3d\":[{\"type\":\"mesh3d\",\"colorbar\":{\"outlinewidth\":0,\"ticks\":\"\"}}],\"scatter\":[{\"fillpattern\":{\"fillmode\":\"overlay\",\"size\":10,\"solidity\":0.2},\"type\":\"scatter\"}],\"parcoords\":[{\"type\":\"parcoords\",\"line\":{\"colorbar\":{\"outlinewidth\":0,\"ticks\":\"\"}}}],\"scatterpolargl\":[{\"type\":\"scatterpolargl\",\"marker\":{\"colorbar\":{\"outlinewidth\":0,\"ticks\":\"\"}}}],\"bar\":[{\"error_x\":{\"color\":\"#2a3f5f\"},\"error_y\":{\"color\":\"#2a3f5f\"},\"marker\":{\"line\":{\"color\":\"#E5ECF6\",\"width\":0.5},\"pattern\":{\"fillmode\":\"overlay\",\"size\":10,\"solidity\":0.2}},\"type\":\"bar\"}],\"scattergeo\":[{\"type\":\"scattergeo\",\"marker\":{\"colorbar\":{\"outlinewidth\":0,\"ticks\":\"\"}}}],\"scatterpolar\":[{\"type\":\"scatterpolar\",\"marker\":{\"colorbar\":{\"outlinewidth\":0,\"ticks\":\"\"}}}],\"histogram\":[{\"marker\":{\"pattern\":{\"fillmode\":\"overlay\",\"size\":10,\"solidity\":0.2}},\"type\":\"histogram\"}],\"scattergl\":[{\"type\":\"scattergl\",\"marker\":{\"colorbar\":{\"outlinewidth\":0,\"ticks\":\"\"}}}],\"scatter3d\":[{\"type\":\"scatter3d\",\"line\":{\"colorbar\":{\"outlinewidth\":0,\"ticks\":\"\"}},\"marker\":{\"colorbar\":{\"outlinewidth\":0,\"ticks\":\"\"}}}],\"scattermapbox\":[{\"type\":\"scattermapbox\",\"marker\":{\"colorbar\":{\"outlinewidth\":0,\"ticks\":\"\"}}}],\"scatterternary\":[{\"type\":\"scatterternary\",\"marker\":{\"colorbar\":{\"outlinewidth\":0,\"ticks\":\"\"}}}],\"scattercarpet\":[{\"type\":\"scattercarpet\",\"marker\":{\"colorbar\":{\"outlinewidth\":0,\"ticks\":\"\"}}}],\"carpet\":[{\"aaxis\":{\"endlinecolor\":\"#2a3f5f\",\"gridcolor\":\"white\",\"linecolor\":\"white\",\"minorgridcolor\":\"white\",\"startlinecolor\":\"#2a3f5f\"},\"baxis\":{\"endlinecolor\":\"#2a3f5f\",\"gridcolor\":\"white\",\"linecolor\":\"white\",\"minorgridcolor\":\"white\",\"startlinecolor\":\"#2a3f5f\"},\"type\":\"carpet\"}],\"table\":[{\"cells\":{\"fill\":{\"color\":\"#EBF0F8\"},\"line\":{\"color\":\"white\"}},\"header\":{\"fill\":{\"color\":\"#C8D4E3\"},\"line\":{\"color\":\"white\"}},\"type\":\"table\"}],\"barpolar\":[{\"marker\":{\"line\":{\"color\":\"#E5ECF6\",\"width\":0.5},\"pattern\":{\"fillmode\":\"overlay\",\"size\":10,\"solidity\":0.2}},\"type\":\"barpolar\"}],\"pie\":[{\"automargin\":true,\"type\":\"pie\"}]},\"layout\":{\"autotypenumbers\":\"strict\",\"colorway\":[\"#636efa\",\"#EF553B\",\"#00cc96\",\"#ab63fa\",\"#FFA15A\",\"#19d3f3\",\"#FF6692\",\"#B6E880\",\"#FF97FF\",\"#FECB52\"],\"font\":{\"color\":\"#2a3f5f\"},\"hovermode\":\"closest\",\"hoverlabel\":{\"align\":\"left\"},\"paper_bgcolor\":\"white\",\"plot_bgcolor\":\"#E5ECF6\",\"polar\":{\"bgcolor\":\"#E5ECF6\",\"angularaxis\":{\"gridcolor\":\"white\",\"linecolor\":\"white\",\"ticks\":\"\"},\"radialaxis\":{\"gridcolor\":\"white\",\"linecolor\":\"white\",\"ticks\":\"\"}},\"ternary\":{\"bgcolor\":\"#E5ECF6\",\"aaxis\":{\"gridcolor\":\"white\",\"linecolor\":\"white\",\"ticks\":\"\"},\"baxis\":{\"gridcolor\":\"white\",\"linecolor\":\"white\",\"ticks\":\"\"},\"caxis\":{\"gridcolor\":\"white\",\"linecolor\":\"white\",\"ticks\":\"\"}},\"coloraxis\":{\"colorbar\":{\"outlinewidth\":0,\"ticks\":\"\"}},\"colorscale\":{\"sequential\":[[0.0,\"#0d0887\"],[0.1111111111111111,\"#46039f\"],[0.2222222222222222,\"#7201a8\"],[0.3333333333333333,\"#9c179e\"],[0.4444444444444444,\"#bd3786\"],[0.5555555555555556,\"#d8576b\"],[0.6666666666666666,\"#ed7953\"],[0.7777777777777778,\"#fb9f3a\"],[0.8888888888888888,\"#fdca26\"],[1.0,\"#f0f921\"]],\"sequentialminus\":[[0.0,\"#0d0887\"],[0.1111111111111111,\"#46039f\"],[0.2222222222222222,\"#7201a8\"],[0.3333333333333333,\"#9c179e\"],[0.4444444444444444,\"#bd3786\"],[0.5555555555555556,\"#d8576b\"],[0.6666666666666666,\"#ed7953\"],[0.7777777777777778,\"#fb9f3a\"],[0.8888888888888888,\"#fdca26\"],[1.0,\"#f0f921\"]],\"diverging\":[[0,\"#8e0152\"],[0.1,\"#c51b7d\"],[0.2,\"#de77ae\"],[0.3,\"#f1b6da\"],[0.4,\"#fde0ef\"],[0.5,\"#f7f7f7\"],[0.6,\"#e6f5d0\"],[0.7,\"#b8e186\"],[0.8,\"#7fbc41\"],[0.9,\"#4d9221\"],[1,\"#276419\"]]},\"xaxis\":{\"gridcolor\":\"white\",\"linecolor\":\"white\",\"ticks\":\"\",\"title\":{\"standoff\":15},\"zerolinecolor\":\"white\",\"automargin\":true,\"zerolinewidth\":2},\"yaxis\":{\"gridcolor\":\"white\",\"linecolor\":\"white\",\"ticks\":\"\",\"title\":{\"standoff\":15},\"zerolinecolor\":\"white\",\"automargin\":true,\"zerolinewidth\":2},\"scene\":{\"xaxis\":{\"backgroundcolor\":\"#E5ECF6\",\"gridcolor\":\"white\",\"linecolor\":\"white\",\"showbackground\":true,\"ticks\":\"\",\"zerolinecolor\":\"white\",\"gridwidth\":2},\"yaxis\":{\"backgroundcolor\":\"#E5ECF6\",\"gridcolor\":\"white\",\"linecolor\":\"white\",\"showbackground\":true,\"ticks\":\"\",\"zerolinecolor\":\"white\",\"gridwidth\":2},\"zaxis\":{\"backgroundcolor\":\"#E5ECF6\",\"gridcolor\":\"white\",\"linecolor\":\"white\",\"showbackground\":true,\"ticks\":\"\",\"zerolinecolor\":\"white\",\"gridwidth\":2}},\"shapedefaults\":{\"line\":{\"color\":\"#2a3f5f\"}},\"annotationdefaults\":{\"arrowcolor\":\"#2a3f5f\",\"arrowhead\":0,\"arrowwidth\":1},\"geo\":{\"bgcolor\":\"white\",\"landcolor\":\"#E5ECF6\",\"subunitcolor\":\"white\",\"showland\":true,\"showlakes\":true,\"lakecolor\":\"white\"},\"title\":{\"x\":0.05},\"mapbox\":{\"style\":\"light\"}}},\"coloraxis\":{\"colorbar\":{\"yanchor\":\"top\",\"y\":0.05,\"x\":1}}},                        {\"responsive\": true}                    ).then(function(){\n",
       "                            \n",
       "var gd = document.getElementById('e6df193b-e85b-4ddb-82ec-66f3dcfcaefb');\n",
       "var x = new MutationObserver(function (mutations, observer) {{\n",
       "        var display = window.getComputedStyle(gd).display;\n",
       "        if (!display || display === 'none') {{\n",
       "            console.log([gd, 'removed!']);\n",
       "            Plotly.purge(gd);\n",
       "            observer.disconnect();\n",
       "        }}\n",
       "}});\n",
       "\n",
       "// Listen for the removal of the full notebook cells\n",
       "var notebookContainer = gd.closest('#notebook-container');\n",
       "if (notebookContainer) {{\n",
       "    x.observe(notebookContainer, {childList: true});\n",
       "}}\n",
       "\n",
       "// Listen for the clearing of the current output cell\n",
       "var outputEl = gd.closest('.output');\n",
       "if (outputEl) {{\n",
       "    x.observe(outputEl, {childList: true});\n",
       "}}\n",
       "\n",
       "                        })                };                });            </script>        </div>"
      ]
     },
     "metadata": {},
     "output_type": "display_data"
    }
   ],
   "source": [
    "plotter = PDPlotter_dis(phasediagram=phased, show_unstable=0.2, show_disorder=True, backend='plotly')\n",
    "\n",
    "plotter.show()"
   ]
  },
  {
   "cell_type": "code",
   "execution_count": 161,
   "id": "a417b4c2",
   "metadata": {},
   "outputs": [
    {
     "data": {
      "text/plain": [
       "0.6206896551724138"
      ]
     },
     "execution_count": 161,
     "metadata": {},
     "output_type": "execute_result"
    }
   ],
   "source": [
    "18/29"
   ]
  },
  {
   "cell_type": "code",
   "execution_count": 149,
   "id": "b0d408ad",
   "metadata": {},
   "outputs": [
    {
     "data": {
      "text/html": [
       "<div>\n",
       "<style scoped>\n",
       "    .dataframe tbody tr th:only-of-type {\n",
       "        vertical-align: middle;\n",
       "    }\n",
       "\n",
       "    .dataframe tbody tr th {\n",
       "        vertical-align: top;\n",
       "    }\n",
       "\n",
       "    .dataframe thead th {\n",
       "        text-align: right;\n",
       "    }\n",
       "</style>\n",
       "<table border=\"1\" class=\"dataframe\">\n",
       "  <thead>\n",
       "    <tr style=\"text-align: right;\">\n",
       "      <th></th>\n",
       "      <th>formula</th>\n",
       "      <th>disorder</th>\n",
       "      <th>mean_dis_prob</th>\n",
       "      <th>std_dis_prob</th>\n",
       "      <th>entropy</th>\n",
       "      <th>std_entropy</th>\n",
       "    </tr>\n",
       "  </thead>\n",
       "  <tbody>\n",
       "    <tr>\n",
       "      <th>8</th>\n",
       "      <td>Mg16 Al12 Fe1</td>\n",
       "      <td>True</td>\n",
       "      <td>0.999605</td>\n",
       "      <td>0.630321</td>\n",
       "      <td>0.136529</td>\n",
       "      <td>0.630686</td>\n",
       "    </tr>\n",
       "    <tr>\n",
       "      <th>9</th>\n",
       "      <td>Mg12 Al2 Fe2</td>\n",
       "      <td>True</td>\n",
       "      <td>0.997526</td>\n",
       "      <td>0.326287</td>\n",
       "      <td>0.170882</td>\n",
       "      <td>0.326301</td>\n",
       "    </tr>\n",
       "    <tr>\n",
       "      <th>10</th>\n",
       "      <td>Mg12 Al2 Fe2</td>\n",
       "      <td>True</td>\n",
       "      <td>0.997526</td>\n",
       "      <td>0.326287</td>\n",
       "      <td>0.170882</td>\n",
       "      <td>0.326301</td>\n",
       "    </tr>\n",
       "    <tr>\n",
       "      <th>11</th>\n",
       "      <td>Mg14 Al1 Fe1</td>\n",
       "      <td>True</td>\n",
       "      <td>0.832011</td>\n",
       "      <td>0.559570</td>\n",
       "      <td>0.189038</td>\n",
       "      <td>0.531700</td>\n",
       "    </tr>\n",
       "    <tr>\n",
       "      <th>12</th>\n",
       "      <td>Mg14 Al1 Fe1</td>\n",
       "      <td>True</td>\n",
       "      <td>0.832011</td>\n",
       "      <td>0.559570</td>\n",
       "      <td>0.189038</td>\n",
       "      <td>0.531700</td>\n",
       "    </tr>\n",
       "    <tr>\n",
       "      <th>13</th>\n",
       "      <td>Mg15 Fe1</td>\n",
       "      <td>True</td>\n",
       "      <td>0.999889</td>\n",
       "      <td>0.316365</td>\n",
       "      <td>0.228969</td>\n",
       "      <td>0.316419</td>\n",
       "    </tr>\n",
       "    <tr>\n",
       "      <th>14</th>\n",
       "      <td>Mg3 Fe1</td>\n",
       "      <td>True</td>\n",
       "      <td>0.902066</td>\n",
       "      <td>0.311691</td>\n",
       "      <td>0.287961</td>\n",
       "      <td>0.344607</td>\n",
       "    </tr>\n",
       "    <tr>\n",
       "      <th>15</th>\n",
       "      <td>Mg6 Fe2</td>\n",
       "      <td>True</td>\n",
       "      <td>0.902066</td>\n",
       "      <td>0.311691</td>\n",
       "      <td>0.287961</td>\n",
       "      <td>0.344607</td>\n",
       "    </tr>\n",
       "    <tr>\n",
       "      <th>16</th>\n",
       "      <td>Mg7 Fe1</td>\n",
       "      <td>True</td>\n",
       "      <td>0.760233</td>\n",
       "      <td>0.611981</td>\n",
       "      <td>0.119890</td>\n",
       "      <td>0.513762</td>\n",
       "    </tr>\n",
       "    <tr>\n",
       "      <th>18</th>\n",
       "      <td>Mg149 Fe1</td>\n",
       "      <td>True</td>\n",
       "      <td>1.000000</td>\n",
       "      <td>0.223660</td>\n",
       "      <td>0.037200</td>\n",
       "      <td>0.223668</td>\n",
       "    </tr>\n",
       "    <tr>\n",
       "      <th>39</th>\n",
       "      <td>Al12 Fe7</td>\n",
       "      <td>True</td>\n",
       "      <td>0.744785</td>\n",
       "      <td>0.573623</td>\n",
       "      <td>0.166384</td>\n",
       "      <td>0.478292</td>\n",
       "    </tr>\n",
       "    <tr>\n",
       "      <th>41</th>\n",
       "      <td>Al1 Fe4</td>\n",
       "      <td>True</td>\n",
       "      <td>0.997940</td>\n",
       "      <td>0.240447</td>\n",
       "      <td>0.501950</td>\n",
       "      <td>0.240474</td>\n",
       "    </tr>\n",
       "    <tr>\n",
       "      <th>43</th>\n",
       "      <td>Al1 Fe3</td>\n",
       "      <td>True</td>\n",
       "      <td>0.749294</td>\n",
       "      <td>0.463063</td>\n",
       "      <td>0.566252</td>\n",
       "      <td>0.442309</td>\n",
       "    </tr>\n",
       "    <tr>\n",
       "      <th>47</th>\n",
       "      <td>Al1 Fe3</td>\n",
       "      <td>True</td>\n",
       "      <td>0.749294</td>\n",
       "      <td>0.463063</td>\n",
       "      <td>0.566252</td>\n",
       "      <td>0.442309</td>\n",
       "    </tr>\n",
       "    <tr>\n",
       "      <th>48</th>\n",
       "      <td>Al6 Fe2</td>\n",
       "      <td>True</td>\n",
       "      <td>0.799030</td>\n",
       "      <td>0.360982</td>\n",
       "      <td>0.020671</td>\n",
       "      <td>0.337454</td>\n",
       "    </tr>\n",
       "    <tr>\n",
       "      <th>49</th>\n",
       "      <td>Al16 Fe10</td>\n",
       "      <td>True</td>\n",
       "      <td>0.613053</td>\n",
       "      <td>0.545637</td>\n",
       "      <td>0.116862</td>\n",
       "      <td>0.519385</td>\n",
       "    </tr>\n",
       "    <tr>\n",
       "      <th>50</th>\n",
       "      <td>Al39 Fe12</td>\n",
       "      <td>True</td>\n",
       "      <td>0.997723</td>\n",
       "      <td>0.278675</td>\n",
       "      <td>0.020859</td>\n",
       "      <td>0.278672</td>\n",
       "    </tr>\n",
       "    <tr>\n",
       "      <th>51</th>\n",
       "      <td>Al1 Fe3</td>\n",
       "      <td>True</td>\n",
       "      <td>0.749294</td>\n",
       "      <td>0.463063</td>\n",
       "      <td>0.566252</td>\n",
       "      <td>0.442309</td>\n",
       "    </tr>\n",
       "    <tr>\n",
       "      <th>53</th>\n",
       "      <td>Mg3 Al1</td>\n",
       "      <td>True</td>\n",
       "      <td>0.799792</td>\n",
       "      <td>0.437450</td>\n",
       "      <td>0.523890</td>\n",
       "      <td>0.430917</td>\n",
       "    </tr>\n",
       "    <tr>\n",
       "      <th>54</th>\n",
       "      <td>Mg6 Al2</td>\n",
       "      <td>True</td>\n",
       "      <td>0.799792</td>\n",
       "      <td>0.437450</td>\n",
       "      <td>0.523890</td>\n",
       "      <td>0.430917</td>\n",
       "    </tr>\n",
       "    <tr>\n",
       "      <th>60</th>\n",
       "      <td>Mg18 Al11</td>\n",
       "      <td>True</td>\n",
       "      <td>0.970966</td>\n",
       "      <td>0.318816</td>\n",
       "      <td>0.150220</td>\n",
       "      <td>0.315745</td>\n",
       "    </tr>\n",
       "    <tr>\n",
       "      <th>62</th>\n",
       "      <td>Mg149 Al1</td>\n",
       "      <td>True</td>\n",
       "      <td>1.000000</td>\n",
       "      <td>0.263465</td>\n",
       "      <td>0.041068</td>\n",
       "      <td>0.263471</td>\n",
       "    </tr>\n",
       "    <tr>\n",
       "      <th>63</th>\n",
       "      <td>Mg41 Al67</td>\n",
       "      <td>True</td>\n",
       "      <td>0.989539</td>\n",
       "      <td>0.321465</td>\n",
       "      <td>0.213522</td>\n",
       "      <td>0.325482</td>\n",
       "    </tr>\n",
       "    <tr>\n",
       "      <th>71</th>\n",
       "      <td>Mg8 Al12</td>\n",
       "      <td>True</td>\n",
       "      <td>0.912017</td>\n",
       "      <td>0.635617</td>\n",
       "      <td>0.195213</td>\n",
       "      <td>0.634134</td>\n",
       "    </tr>\n",
       "    <tr>\n",
       "      <th>72</th>\n",
       "      <td>Mg3 Al1</td>\n",
       "      <td>True</td>\n",
       "      <td>0.799792</td>\n",
       "      <td>0.437450</td>\n",
       "      <td>0.523890</td>\n",
       "      <td>0.430917</td>\n",
       "    </tr>\n",
       "    <tr>\n",
       "      <th>78</th>\n",
       "      <td>Mg3 Al1</td>\n",
       "      <td>True</td>\n",
       "      <td>0.799792</td>\n",
       "      <td>0.437450</td>\n",
       "      <td>0.523890</td>\n",
       "      <td>0.430917</td>\n",
       "    </tr>\n",
       "    <tr>\n",
       "      <th>79</th>\n",
       "      <td>Mg3 Al1</td>\n",
       "      <td>True</td>\n",
       "      <td>0.799792</td>\n",
       "      <td>0.437450</td>\n",
       "      <td>0.523890</td>\n",
       "      <td>0.430917</td>\n",
       "    </tr>\n",
       "    <tr>\n",
       "      <th>83</th>\n",
       "      <td>Mg15 Al1</td>\n",
       "      <td>True</td>\n",
       "      <td>0.932913</td>\n",
       "      <td>0.493081</td>\n",
       "      <td>0.230440</td>\n",
       "      <td>0.474893</td>\n",
       "    </tr>\n",
       "  </tbody>\n",
       "</table>\n",
       "</div>"
      ],
      "text/plain": [
       "          formula  disorder  mean_dis_prob  std_dis_prob   entropy  \\\n",
       "8   Mg16 Al12 Fe1      True       0.999605      0.630321  0.136529   \n",
       "9    Mg12 Al2 Fe2      True       0.997526      0.326287  0.170882   \n",
       "10   Mg12 Al2 Fe2      True       0.997526      0.326287  0.170882   \n",
       "11   Mg14 Al1 Fe1      True       0.832011      0.559570  0.189038   \n",
       "12   Mg14 Al1 Fe1      True       0.832011      0.559570  0.189038   \n",
       "13       Mg15 Fe1      True       0.999889      0.316365  0.228969   \n",
       "14        Mg3 Fe1      True       0.902066      0.311691  0.287961   \n",
       "15        Mg6 Fe2      True       0.902066      0.311691  0.287961   \n",
       "16        Mg7 Fe1      True       0.760233      0.611981  0.119890   \n",
       "18      Mg149 Fe1      True       1.000000      0.223660  0.037200   \n",
       "39       Al12 Fe7      True       0.744785      0.573623  0.166384   \n",
       "41        Al1 Fe4      True       0.997940      0.240447  0.501950   \n",
       "43        Al1 Fe3      True       0.749294      0.463063  0.566252   \n",
       "47        Al1 Fe3      True       0.749294      0.463063  0.566252   \n",
       "48        Al6 Fe2      True       0.799030      0.360982  0.020671   \n",
       "49      Al16 Fe10      True       0.613053      0.545637  0.116862   \n",
       "50      Al39 Fe12      True       0.997723      0.278675  0.020859   \n",
       "51        Al1 Fe3      True       0.749294      0.463063  0.566252   \n",
       "53        Mg3 Al1      True       0.799792      0.437450  0.523890   \n",
       "54        Mg6 Al2      True       0.799792      0.437450  0.523890   \n",
       "60      Mg18 Al11      True       0.970966      0.318816  0.150220   \n",
       "62      Mg149 Al1      True       1.000000      0.263465  0.041068   \n",
       "63      Mg41 Al67      True       0.989539      0.321465  0.213522   \n",
       "71       Mg8 Al12      True       0.912017      0.635617  0.195213   \n",
       "72        Mg3 Al1      True       0.799792      0.437450  0.523890   \n",
       "78        Mg3 Al1      True       0.799792      0.437450  0.523890   \n",
       "79        Mg3 Al1      True       0.799792      0.437450  0.523890   \n",
       "83       Mg15 Al1      True       0.932913      0.493081  0.230440   \n",
       "\n",
       "    std_entropy  \n",
       "8      0.630686  \n",
       "9      0.326301  \n",
       "10     0.326301  \n",
       "11     0.531700  \n",
       "12     0.531700  \n",
       "13     0.316419  \n",
       "14     0.344607  \n",
       "15     0.344607  \n",
       "16     0.513762  \n",
       "18     0.223668  \n",
       "39     0.478292  \n",
       "41     0.240474  \n",
       "43     0.442309  \n",
       "47     0.442309  \n",
       "48     0.337454  \n",
       "49     0.519385  \n",
       "50     0.278672  \n",
       "51     0.442309  \n",
       "53     0.430917  \n",
       "54     0.430917  \n",
       "60     0.315745  \n",
       "62     0.263471  \n",
       "63     0.325482  \n",
       "71     0.634134  \n",
       "72     0.430917  \n",
       "78     0.430917  \n",
       "79     0.430917  \n",
       "83     0.474893  "
      ]
     },
     "execution_count": 149,
     "metadata": {},
     "output_type": "execute_result"
    }
   ],
   "source": [
    "table.loc[table['disorder']==True].head(50)"
   ]
  },
  {
   "cell_type": "code",
   "execution_count": 150,
   "id": "413f1bd1",
   "metadata": {},
   "outputs": [
    {
     "data": {
      "text/plain": [
       "0.32558139534883723"
      ]
     },
     "execution_count": 150,
     "metadata": {},
     "output_type": "execute_result"
    }
   ],
   "source": [
    "len(table.loc[table['disorder']==True])/len(table)"
   ]
  },
  {
   "cell_type": "code",
   "execution_count": 151,
   "id": "2921b163",
   "metadata": {},
   "outputs": [
    {
     "data": {
      "text/plain": [
       "86"
      ]
     },
     "execution_count": 151,
     "metadata": {},
     "output_type": "execute_result"
    }
   ],
   "source": [
    "len(entries)"
   ]
  },
  {
   "cell_type": "code",
   "execution_count": null,
   "id": "1ed00977",
   "metadata": {},
   "outputs": [],
   "source": []
  },
  {
   "cell_type": "code",
   "execution_count": null,
   "id": "11cd2b72",
   "metadata": {},
   "outputs": [],
   "source": []
  },
  {
   "cell_type": "code",
   "execution_count": null,
   "id": "6fc6b5d6",
   "metadata": {},
   "outputs": [],
   "source": []
  },
  {
   "cell_type": "code",
   "execution_count": null,
   "id": "b5c24c70",
   "metadata": {},
   "outputs": [],
   "source": []
  },
  {
   "cell_type": "code",
   "execution_count": null,
   "id": "d9de1adf",
   "metadata": {},
   "outputs": [],
   "source": []
  },
  {
   "cell_type": "code",
   "execution_count": null,
   "id": "3e2bc3cc",
   "metadata": {},
   "outputs": [],
   "source": []
  }
 ],
 "metadata": {
  "kernelspec": {
   "display_name": "Python 3 (ipykernel)",
   "language": "python",
   "name": "python3"
  },
  "language_info": {
   "codemirror_mode": {
    "name": "ipython",
    "version": 3
   },
   "file_extension": ".py",
   "mimetype": "text/x-python",
   "name": "python",
   "nbconvert_exporter": "python",
   "pygments_lexer": "ipython3",
   "version": "3.11.8"
  }
 },
 "nbformat": 4,
 "nbformat_minor": 5
}
